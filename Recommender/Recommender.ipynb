{
 "cells": [
  {
   "cell_type": "markdown",
   "metadata": {
    "id": "DwXX4R5_Rn7j"
   },
   "source": [
    "# Recommender System"
   ]
  },
  {
   "cell_type": "markdown",
   "metadata": {
    "id": "PA4bpVUPjCIm"
   },
   "source": [
    "### Import Library"
   ]
  },
  {
   "cell_type": "code",
   "execution_count": 1,
   "metadata": {
    "id": "L6Faw6l9V5qB"
   },
   "outputs": [],
   "source": [
    "import numpy as np\n",
    "import pandas as pd\n",
    "import re\n",
    "from sklearn.metrics.pairwise import cosine_similarity\n",
    "from sklearn.feature_extraction.text import TfidfVectorizer"
   ]
  },
  {
   "cell_type": "markdown",
   "metadata": {
    "id": "Ct0VAOl7SRbF"
   },
   "source": [
    "### Dataset"
   ]
  },
  {
   "cell_type": "code",
   "execution_count": 2,
   "metadata": {
    "id": "_jg4qQH6WOM3"
   },
   "outputs": [],
   "source": [
    "#Dataset rating\n",
    "df_rating = pd.read_csv('ratings.csv', sep=',', names =['user_id', 'item_id', 'rating', 'timestamp'], skiprows=1)"
   ]
  },
  {
   "cell_type": "code",
   "execution_count": 3,
   "metadata": {
    "id": "HI_apniQ-5CF"
   },
   "outputs": [],
   "source": [
    "#Dataset movies.csv\n",
    "df_movies = pd.read_csv('movies.csv', sep=',', names =['movie_id', 'title', 'genre'], skiprows=1)"
   ]
  },
  {
   "cell_type": "code",
   "execution_count": 4,
   "metadata": {
    "id": "RSK8y0tXjCIq",
    "outputId": "7116e12b-c10b-4174-c11f-e20f2512c8cf"
   },
   "outputs": [
    {
     "name": "stdout",
     "output_type": "stream",
     "text": [
      "<class 'pandas.core.frame.DataFrame'>\n",
      "RangeIndex: 100836 entries, 0 to 100835\n",
      "Data columns (total 4 columns):\n",
      " #   Column     Non-Null Count   Dtype  \n",
      "---  ------     --------------   -----  \n",
      " 0   user_id    100836 non-null  int64  \n",
      " 1   item_id    100836 non-null  int64  \n",
      " 2   rating     100836 non-null  float64\n",
      " 3   timestamp  100836 non-null  int64  \n",
      "dtypes: float64(1), int64(3)\n",
      "memory usage: 3.1 MB\n"
     ]
    }
   ],
   "source": [
    "df_rating.info()"
   ]
  },
  {
   "cell_type": "code",
   "execution_count": 5,
   "metadata": {
    "id": "YODfStiLjCIr",
    "outputId": "44090422-699d-4903-f548-1bf4e924c31e"
   },
   "outputs": [
    {
     "data": {
      "text/html": [
       "<div>\n",
       "<style scoped>\n",
       "    .dataframe tbody tr th:only-of-type {\n",
       "        vertical-align: middle;\n",
       "    }\n",
       "\n",
       "    .dataframe tbody tr th {\n",
       "        vertical-align: top;\n",
       "    }\n",
       "\n",
       "    .dataframe thead th {\n",
       "        text-align: right;\n",
       "    }\n",
       "</style>\n",
       "<table border=\"1\" class=\"dataframe\">\n",
       "  <thead>\n",
       "    <tr style=\"text-align: right;\">\n",
       "      <th></th>\n",
       "      <th>user_id</th>\n",
       "      <th>item_id</th>\n",
       "      <th>rating</th>\n",
       "      <th>timestamp</th>\n",
       "    </tr>\n",
       "  </thead>\n",
       "  <tbody>\n",
       "    <tr>\n",
       "      <th>count</th>\n",
       "      <td>100836.000000</td>\n",
       "      <td>100836.000000</td>\n",
       "      <td>100836.000000</td>\n",
       "      <td>1.008360e+05</td>\n",
       "    </tr>\n",
       "    <tr>\n",
       "      <th>mean</th>\n",
       "      <td>326.127564</td>\n",
       "      <td>19435.295718</td>\n",
       "      <td>3.501557</td>\n",
       "      <td>1.205946e+09</td>\n",
       "    </tr>\n",
       "    <tr>\n",
       "      <th>std</th>\n",
       "      <td>182.618491</td>\n",
       "      <td>35530.987199</td>\n",
       "      <td>1.042529</td>\n",
       "      <td>2.162610e+08</td>\n",
       "    </tr>\n",
       "    <tr>\n",
       "      <th>min</th>\n",
       "      <td>1.000000</td>\n",
       "      <td>1.000000</td>\n",
       "      <td>0.500000</td>\n",
       "      <td>8.281246e+08</td>\n",
       "    </tr>\n",
       "    <tr>\n",
       "      <th>25%</th>\n",
       "      <td>177.000000</td>\n",
       "      <td>1199.000000</td>\n",
       "      <td>3.000000</td>\n",
       "      <td>1.019124e+09</td>\n",
       "    </tr>\n",
       "    <tr>\n",
       "      <th>50%</th>\n",
       "      <td>325.000000</td>\n",
       "      <td>2991.000000</td>\n",
       "      <td>3.500000</td>\n",
       "      <td>1.186087e+09</td>\n",
       "    </tr>\n",
       "    <tr>\n",
       "      <th>75%</th>\n",
       "      <td>477.000000</td>\n",
       "      <td>8122.000000</td>\n",
       "      <td>4.000000</td>\n",
       "      <td>1.435994e+09</td>\n",
       "    </tr>\n",
       "    <tr>\n",
       "      <th>max</th>\n",
       "      <td>610.000000</td>\n",
       "      <td>193609.000000</td>\n",
       "      <td>5.000000</td>\n",
       "      <td>1.537799e+09</td>\n",
       "    </tr>\n",
       "  </tbody>\n",
       "</table>\n",
       "</div>"
      ],
      "text/plain": [
       "             user_id        item_id         rating     timestamp\n",
       "count  100836.000000  100836.000000  100836.000000  1.008360e+05\n",
       "mean      326.127564   19435.295718       3.501557  1.205946e+09\n",
       "std       182.618491   35530.987199       1.042529  2.162610e+08\n",
       "min         1.000000       1.000000       0.500000  8.281246e+08\n",
       "25%       177.000000    1199.000000       3.000000  1.019124e+09\n",
       "50%       325.000000    2991.000000       3.500000  1.186087e+09\n",
       "75%       477.000000    8122.000000       4.000000  1.435994e+09\n",
       "max       610.000000  193609.000000       5.000000  1.537799e+09"
      ]
     },
     "execution_count": 5,
     "metadata": {},
     "output_type": "execute_result"
    }
   ],
   "source": [
    "df_rating.describe()"
   ]
  },
  {
   "cell_type": "code",
   "execution_count": 6,
   "metadata": {
    "id": "spOA9KfpjCIr",
    "outputId": "a45537d1-d827-4c31-893a-042897181507"
   },
   "outputs": [
    {
     "name": "stdout",
     "output_type": "stream",
     "text": [
      "<class 'pandas.core.frame.DataFrame'>\n",
      "RangeIndex: 9742 entries, 0 to 9741\n",
      "Data columns (total 3 columns):\n",
      " #   Column    Non-Null Count  Dtype \n",
      "---  ------    --------------  ----- \n",
      " 0   movie_id  9742 non-null   int64 \n",
      " 1   title     9742 non-null   object\n",
      " 2   genre     9742 non-null   object\n",
      "dtypes: int64(1), object(2)\n",
      "memory usage: 228.5+ KB\n"
     ]
    }
   ],
   "source": [
    "df_movies.info()"
   ]
  },
  {
   "cell_type": "code",
   "execution_count": 7,
   "metadata": {
    "id": "PdZxhAckjCIr",
    "outputId": "a4a4b505-5ec8-4628-fe19-590aa37c4b62"
   },
   "outputs": [
    {
     "data": {
      "text/html": [
       "<div>\n",
       "<style scoped>\n",
       "    .dataframe tbody tr th:only-of-type {\n",
       "        vertical-align: middle;\n",
       "    }\n",
       "\n",
       "    .dataframe tbody tr th {\n",
       "        vertical-align: top;\n",
       "    }\n",
       "\n",
       "    .dataframe thead th {\n",
       "        text-align: right;\n",
       "    }\n",
       "</style>\n",
       "<table border=\"1\" class=\"dataframe\">\n",
       "  <thead>\n",
       "    <tr style=\"text-align: right;\">\n",
       "      <th></th>\n",
       "      <th>movie_id</th>\n",
       "    </tr>\n",
       "  </thead>\n",
       "  <tbody>\n",
       "    <tr>\n",
       "      <th>count</th>\n",
       "      <td>9742.000000</td>\n",
       "    </tr>\n",
       "    <tr>\n",
       "      <th>mean</th>\n",
       "      <td>42200.353623</td>\n",
       "    </tr>\n",
       "    <tr>\n",
       "      <th>std</th>\n",
       "      <td>52160.494854</td>\n",
       "    </tr>\n",
       "    <tr>\n",
       "      <th>min</th>\n",
       "      <td>1.000000</td>\n",
       "    </tr>\n",
       "    <tr>\n",
       "      <th>25%</th>\n",
       "      <td>3248.250000</td>\n",
       "    </tr>\n",
       "    <tr>\n",
       "      <th>50%</th>\n",
       "      <td>7300.000000</td>\n",
       "    </tr>\n",
       "    <tr>\n",
       "      <th>75%</th>\n",
       "      <td>76232.000000</td>\n",
       "    </tr>\n",
       "    <tr>\n",
       "      <th>max</th>\n",
       "      <td>193609.000000</td>\n",
       "    </tr>\n",
       "  </tbody>\n",
       "</table>\n",
       "</div>"
      ],
      "text/plain": [
       "            movie_id\n",
       "count    9742.000000\n",
       "mean    42200.353623\n",
       "std     52160.494854\n",
       "min         1.000000\n",
       "25%      3248.250000\n",
       "50%      7300.000000\n",
       "75%     76232.000000\n",
       "max    193609.000000"
      ]
     },
     "execution_count": 7,
     "metadata": {},
     "output_type": "execute_result"
    }
   ],
   "source": [
    "df_movies.describe()"
   ]
  },
  {
   "cell_type": "code",
   "execution_count": 8,
   "metadata": {
    "colab": {
     "base_uri": "https://localhost:8080/",
     "height": 215
    },
    "executionInfo": {
     "elapsed": 705,
     "status": "ok",
     "timestamp": 1597044777601,
     "user": {
      "displayName": "Beladina Elfitri",
      "photoUrl": "https://lh3.googleusercontent.com/a-/AOh14GjVpaLeXl60I8TZeeKTv6wEVjZ-g6mVuxbOF-vwvQ=s64",
      "userId": "01535285485924194811"
     },
     "user_tz": -420
    },
    "id": "PPgnOU3bgDAM",
    "outputId": "d4bc0b2e-9880-40a7-e59f-b284b5af6324"
   },
   "outputs": [
    {
     "name": "stdout",
     "output_type": "stream",
     "text": [
      "Number of users = 610 | number of movies = 9724\n"
     ]
    },
    {
     "data": {
      "text/html": [
       "<div>\n",
       "<style scoped>\n",
       "    .dataframe tbody tr th:only-of-type {\n",
       "        vertical-align: middle;\n",
       "    }\n",
       "\n",
       "    .dataframe tbody tr th {\n",
       "        vertical-align: top;\n",
       "    }\n",
       "\n",
       "    .dataframe thead th {\n",
       "        text-align: right;\n",
       "    }\n",
       "</style>\n",
       "<table border=\"1\" class=\"dataframe\">\n",
       "  <thead>\n",
       "    <tr style=\"text-align: right;\">\n",
       "      <th></th>\n",
       "      <th>user_id</th>\n",
       "      <th>item_id</th>\n",
       "      <th>rating</th>\n",
       "      <th>timestamp</th>\n",
       "    </tr>\n",
       "  </thead>\n",
       "  <tbody>\n",
       "    <tr>\n",
       "      <th>0</th>\n",
       "      <td>1</td>\n",
       "      <td>1</td>\n",
       "      <td>4.0</td>\n",
       "      <td>964982703</td>\n",
       "    </tr>\n",
       "    <tr>\n",
       "      <th>1</th>\n",
       "      <td>1</td>\n",
       "      <td>3</td>\n",
       "      <td>4.0</td>\n",
       "      <td>964981247</td>\n",
       "    </tr>\n",
       "    <tr>\n",
       "      <th>2</th>\n",
       "      <td>1</td>\n",
       "      <td>6</td>\n",
       "      <td>4.0</td>\n",
       "      <td>964982224</td>\n",
       "    </tr>\n",
       "    <tr>\n",
       "      <th>3</th>\n",
       "      <td>1</td>\n",
       "      <td>47</td>\n",
       "      <td>5.0</td>\n",
       "      <td>964983815</td>\n",
       "    </tr>\n",
       "    <tr>\n",
       "      <th>4</th>\n",
       "      <td>1</td>\n",
       "      <td>50</td>\n",
       "      <td>5.0</td>\n",
       "      <td>964982931</td>\n",
       "    </tr>\n",
       "  </tbody>\n",
       "</table>\n",
       "</div>"
      ],
      "text/plain": [
       "   user_id  item_id  rating  timestamp\n",
       "0        1        1     4.0  964982703\n",
       "1        1        3     4.0  964981247\n",
       "2        1        6     4.0  964982224\n",
       "3        1       47     5.0  964983815\n",
       "4        1       50     5.0  964982931"
      ]
     },
     "execution_count": 8,
     "metadata": {},
     "output_type": "execute_result"
    }
   ],
   "source": [
    "#Calculasi n users and n items\n",
    "n_users = df_rating.user_id.unique().shape[0]\n",
    "n_items = df_rating.item_id.unique().shape[0]\n",
    "print('Number of users = ' + str(n_users) + ' | number of movies = ' + str(n_items))\n",
    "df_rating.head()"
   ]
  },
  {
   "cell_type": "markdown",
   "metadata": {
    "id": "BpYWzWvYSXEJ"
   },
   "source": [
    "### Splitting dataset"
   ]
  },
  {
   "cell_type": "markdown",
   "metadata": {
    "id": "vAC_oNUmScz7"
   },
   "source": [
    "75% training, 25% testing"
   ]
  },
  {
   "cell_type": "code",
   "execution_count": 9,
   "metadata": {
    "id": "txF0cfxrfagF"
   },
   "outputs": [],
   "source": [
    "#split data 20% testing data, 80% training data\n",
    "def splitting_data(data, num_users, num_items, test_ratio):\n",
    "    mask = [True if x == 1 else False for x in np.random.uniform(0, 1, (len(data))) < 1 - test_ratio]\n",
    "    neg_mask = [not x for x in mask]\n",
    "    train_data, test_data = data[mask], data[neg_mask]\n",
    "    return train_data, test_data"
   ]
  },
  {
   "cell_type": "code",
   "execution_count": 10,
   "metadata": {
    "id": "90ktZ6Ob8u00"
   },
   "outputs": [],
   "source": [
    "train, test = splitting_data(df_rating, n_users, n_items, 0.25)"
   ]
  },
  {
   "cell_type": "code",
   "execution_count": 11,
   "metadata": {
    "colab": {
     "base_uri": "https://localhost:8080/",
     "height": 197
    },
    "executionInfo": {
     "elapsed": 1158,
     "status": "ok",
     "timestamp": 1597044837407,
     "user": {
      "displayName": "Beladina Elfitri",
      "photoUrl": "https://lh3.googleusercontent.com/a-/AOh14GjVpaLeXl60I8TZeeKTv6wEVjZ-g6mVuxbOF-vwvQ=s64",
      "userId": "01535285485924194811"
     },
     "user_tz": -420
    },
    "id": "-Rq0ZnEogm4i",
    "outputId": "efb52628-c149-43a5-9a91-761ac68b1261"
   },
   "outputs": [
    {
     "data": {
      "text/html": [
       "<div>\n",
       "<style scoped>\n",
       "    .dataframe tbody tr th:only-of-type {\n",
       "        vertical-align: middle;\n",
       "    }\n",
       "\n",
       "    .dataframe tbody tr th {\n",
       "        vertical-align: top;\n",
       "    }\n",
       "\n",
       "    .dataframe thead th {\n",
       "        text-align: right;\n",
       "    }\n",
       "</style>\n",
       "<table border=\"1\" class=\"dataframe\">\n",
       "  <thead>\n",
       "    <tr style=\"text-align: right;\">\n",
       "      <th></th>\n",
       "      <th>user_id</th>\n",
       "      <th>item_id</th>\n",
       "      <th>rating</th>\n",
       "      <th>timestamp</th>\n",
       "    </tr>\n",
       "  </thead>\n",
       "  <tbody>\n",
       "    <tr>\n",
       "      <th>0</th>\n",
       "      <td>1</td>\n",
       "      <td>1</td>\n",
       "      <td>4.0</td>\n",
       "      <td>964982703</td>\n",
       "    </tr>\n",
       "    <tr>\n",
       "      <th>2</th>\n",
       "      <td>1</td>\n",
       "      <td>6</td>\n",
       "      <td>4.0</td>\n",
       "      <td>964982224</td>\n",
       "    </tr>\n",
       "    <tr>\n",
       "      <th>3</th>\n",
       "      <td>1</td>\n",
       "      <td>47</td>\n",
       "      <td>5.0</td>\n",
       "      <td>964983815</td>\n",
       "    </tr>\n",
       "    <tr>\n",
       "      <th>6</th>\n",
       "      <td>1</td>\n",
       "      <td>101</td>\n",
       "      <td>5.0</td>\n",
       "      <td>964980868</td>\n",
       "    </tr>\n",
       "    <tr>\n",
       "      <th>7</th>\n",
       "      <td>1</td>\n",
       "      <td>110</td>\n",
       "      <td>4.0</td>\n",
       "      <td>964982176</td>\n",
       "    </tr>\n",
       "    <tr>\n",
       "      <th>...</th>\n",
       "      <td>...</td>\n",
       "      <td>...</td>\n",
       "      <td>...</td>\n",
       "      <td>...</td>\n",
       "    </tr>\n",
       "    <tr>\n",
       "      <th>100830</th>\n",
       "      <td>610</td>\n",
       "      <td>166528</td>\n",
       "      <td>4.0</td>\n",
       "      <td>1493879365</td>\n",
       "    </tr>\n",
       "    <tr>\n",
       "      <th>100831</th>\n",
       "      <td>610</td>\n",
       "      <td>166534</td>\n",
       "      <td>4.0</td>\n",
       "      <td>1493848402</td>\n",
       "    </tr>\n",
       "    <tr>\n",
       "      <th>100832</th>\n",
       "      <td>610</td>\n",
       "      <td>168248</td>\n",
       "      <td>5.0</td>\n",
       "      <td>1493850091</td>\n",
       "    </tr>\n",
       "    <tr>\n",
       "      <th>100834</th>\n",
       "      <td>610</td>\n",
       "      <td>168252</td>\n",
       "      <td>5.0</td>\n",
       "      <td>1493846352</td>\n",
       "    </tr>\n",
       "    <tr>\n",
       "      <th>100835</th>\n",
       "      <td>610</td>\n",
       "      <td>170875</td>\n",
       "      <td>3.0</td>\n",
       "      <td>1493846415</td>\n",
       "    </tr>\n",
       "  </tbody>\n",
       "</table>\n",
       "<p>75696 rows × 4 columns</p>\n",
       "</div>"
      ],
      "text/plain": [
       "        user_id  item_id  rating   timestamp\n",
       "0             1        1     4.0   964982703\n",
       "2             1        6     4.0   964982224\n",
       "3             1       47     5.0   964983815\n",
       "6             1      101     5.0   964980868\n",
       "7             1      110     4.0   964982176\n",
       "...         ...      ...     ...         ...\n",
       "100830      610   166528     4.0  1493879365\n",
       "100831      610   166534     4.0  1493848402\n",
       "100832      610   168248     5.0  1493850091\n",
       "100834      610   168252     5.0  1493846352\n",
       "100835      610   170875     3.0  1493846415\n",
       "\n",
       "[75696 rows x 4 columns]"
      ]
     },
     "execution_count": 11,
     "metadata": {},
     "output_type": "execute_result"
    }
   ],
   "source": [
    "train"
   ]
  },
  {
   "cell_type": "code",
   "execution_count": 12,
   "metadata": {
    "colab": {
     "base_uri": "https://localhost:8080/",
     "height": 197
    },
    "executionInfo": {
     "elapsed": 625,
     "status": "ok",
     "timestamp": 1597044838616,
     "user": {
      "displayName": "Beladina Elfitri",
      "photoUrl": "https://lh3.googleusercontent.com/a-/AOh14GjVpaLeXl60I8TZeeKTv6wEVjZ-g6mVuxbOF-vwvQ=s64",
      "userId": "01535285485924194811"
     },
     "user_tz": -420
    },
    "id": "ZGXr5M359EVD",
    "outputId": "dd4ac88d-07d2-45d0-9786-06d6b4151943"
   },
   "outputs": [
    {
     "data": {
      "text/html": [
       "<div>\n",
       "<style scoped>\n",
       "    .dataframe tbody tr th:only-of-type {\n",
       "        vertical-align: middle;\n",
       "    }\n",
       "\n",
       "    .dataframe tbody tr th {\n",
       "        vertical-align: top;\n",
       "    }\n",
       "\n",
       "    .dataframe thead th {\n",
       "        text-align: right;\n",
       "    }\n",
       "</style>\n",
       "<table border=\"1\" class=\"dataframe\">\n",
       "  <thead>\n",
       "    <tr style=\"text-align: right;\">\n",
       "      <th></th>\n",
       "      <th>user_id</th>\n",
       "      <th>item_id</th>\n",
       "      <th>rating</th>\n",
       "      <th>timestamp</th>\n",
       "    </tr>\n",
       "  </thead>\n",
       "  <tbody>\n",
       "    <tr>\n",
       "      <th>1</th>\n",
       "      <td>1</td>\n",
       "      <td>3</td>\n",
       "      <td>4.0</td>\n",
       "      <td>964981247</td>\n",
       "    </tr>\n",
       "    <tr>\n",
       "      <th>4</th>\n",
       "      <td>1</td>\n",
       "      <td>50</td>\n",
       "      <td>5.0</td>\n",
       "      <td>964982931</td>\n",
       "    </tr>\n",
       "    <tr>\n",
       "      <th>5</th>\n",
       "      <td>1</td>\n",
       "      <td>70</td>\n",
       "      <td>3.0</td>\n",
       "      <td>964982400</td>\n",
       "    </tr>\n",
       "    <tr>\n",
       "      <th>11</th>\n",
       "      <td>1</td>\n",
       "      <td>216</td>\n",
       "      <td>5.0</td>\n",
       "      <td>964981208</td>\n",
       "    </tr>\n",
       "    <tr>\n",
       "      <th>18</th>\n",
       "      <td>1</td>\n",
       "      <td>333</td>\n",
       "      <td>5.0</td>\n",
       "      <td>964981179</td>\n",
       "    </tr>\n",
       "    <tr>\n",
       "      <th>...</th>\n",
       "      <td>...</td>\n",
       "      <td>...</td>\n",
       "      <td>...</td>\n",
       "      <td>...</td>\n",
       "    </tr>\n",
       "    <tr>\n",
       "      <th>100811</th>\n",
       "      <td>610</td>\n",
       "      <td>156371</td>\n",
       "      <td>5.0</td>\n",
       "      <td>1479542831</td>\n",
       "    </tr>\n",
       "    <tr>\n",
       "      <th>100823</th>\n",
       "      <td>610</td>\n",
       "      <td>160836</td>\n",
       "      <td>3.0</td>\n",
       "      <td>1493844794</td>\n",
       "    </tr>\n",
       "    <tr>\n",
       "      <th>100825</th>\n",
       "      <td>610</td>\n",
       "      <td>161634</td>\n",
       "      <td>4.0</td>\n",
       "      <td>1493848362</td>\n",
       "    </tr>\n",
       "    <tr>\n",
       "      <th>100828</th>\n",
       "      <td>610</td>\n",
       "      <td>163981</td>\n",
       "      <td>3.5</td>\n",
       "      <td>1493850155</td>\n",
       "    </tr>\n",
       "    <tr>\n",
       "      <th>100833</th>\n",
       "      <td>610</td>\n",
       "      <td>168250</td>\n",
       "      <td>5.0</td>\n",
       "      <td>1494273047</td>\n",
       "    </tr>\n",
       "  </tbody>\n",
       "</table>\n",
       "<p>25140 rows × 4 columns</p>\n",
       "</div>"
      ],
      "text/plain": [
       "        user_id  item_id  rating   timestamp\n",
       "1             1        3     4.0   964981247\n",
       "4             1       50     5.0   964982931\n",
       "5             1       70     3.0   964982400\n",
       "11            1      216     5.0   964981208\n",
       "18            1      333     5.0   964981179\n",
       "...         ...      ...     ...         ...\n",
       "100811      610   156371     5.0  1479542831\n",
       "100823      610   160836     3.0  1493844794\n",
       "100825      610   161634     4.0  1493848362\n",
       "100828      610   163981     3.5  1493850155\n",
       "100833      610   168250     5.0  1494273047\n",
       "\n",
       "[25140 rows x 4 columns]"
      ]
     },
     "execution_count": 12,
     "metadata": {},
     "output_type": "execute_result"
    }
   ],
   "source": [
    "test"
   ]
  },
  {
   "cell_type": "markdown",
   "metadata": {
    "id": "yx154oPySms8"
   },
   "source": [
    "#### Preprocessing Dataset"
   ]
  },
  {
   "cell_type": "code",
   "execution_count": 13,
   "metadata": {
    "id": "8vN7ew5a9KAV"
   },
   "outputs": [],
   "source": [
    "#Untuk train data\n",
    "df_train = df_rating\n",
    "for i in range(test.shape[0]):\n",
    "    df_train.loc[(df_train.user_id == test.iloc[[i]].user_id.values[0]) & (df_train.item_id == test.iloc[[i]].item_id.values[0]), 'rating'] = 0"
   ]
  },
  {
   "cell_type": "code",
   "execution_count": 14,
   "metadata": {
    "colab": {
     "base_uri": "https://localhost:8080/",
     "height": 197
    },
    "executionInfo": {
     "elapsed": 73840,
     "status": "ok",
     "timestamp": 1597044930639,
     "user": {
      "displayName": "Beladina Elfitri",
      "photoUrl": "https://lh3.googleusercontent.com/a-/AOh14GjVpaLeXl60I8TZeeKTv6wEVjZ-g6mVuxbOF-vwvQ=s64",
      "userId": "01535285485924194811"
     },
     "user_tz": -420
    },
    "id": "cToPvziFxrId",
    "outputId": "3cf8c0f0-ebb8-4991-fc3d-47e08ce1042f"
   },
   "outputs": [
    {
     "data": {
      "text/html": [
       "<div>\n",
       "<style scoped>\n",
       "    .dataframe tbody tr th:only-of-type {\n",
       "        vertical-align: middle;\n",
       "    }\n",
       "\n",
       "    .dataframe tbody tr th {\n",
       "        vertical-align: top;\n",
       "    }\n",
       "\n",
       "    .dataframe thead th {\n",
       "        text-align: right;\n",
       "    }\n",
       "</style>\n",
       "<table border=\"1\" class=\"dataframe\">\n",
       "  <thead>\n",
       "    <tr style=\"text-align: right;\">\n",
       "      <th></th>\n",
       "      <th>user_id</th>\n",
       "      <th>item_id</th>\n",
       "      <th>rating</th>\n",
       "      <th>timestamp</th>\n",
       "    </tr>\n",
       "  </thead>\n",
       "  <tbody>\n",
       "    <tr>\n",
       "      <th>0</th>\n",
       "      <td>1</td>\n",
       "      <td>1</td>\n",
       "      <td>4.0</td>\n",
       "      <td>964982703</td>\n",
       "    </tr>\n",
       "    <tr>\n",
       "      <th>1</th>\n",
       "      <td>1</td>\n",
       "      <td>3</td>\n",
       "      <td>0.0</td>\n",
       "      <td>964981247</td>\n",
       "    </tr>\n",
       "    <tr>\n",
       "      <th>2</th>\n",
       "      <td>1</td>\n",
       "      <td>6</td>\n",
       "      <td>4.0</td>\n",
       "      <td>964982224</td>\n",
       "    </tr>\n",
       "    <tr>\n",
       "      <th>3</th>\n",
       "      <td>1</td>\n",
       "      <td>47</td>\n",
       "      <td>5.0</td>\n",
       "      <td>964983815</td>\n",
       "    </tr>\n",
       "    <tr>\n",
       "      <th>4</th>\n",
       "      <td>1</td>\n",
       "      <td>50</td>\n",
       "      <td>0.0</td>\n",
       "      <td>964982931</td>\n",
       "    </tr>\n",
       "    <tr>\n",
       "      <th>...</th>\n",
       "      <td>...</td>\n",
       "      <td>...</td>\n",
       "      <td>...</td>\n",
       "      <td>...</td>\n",
       "    </tr>\n",
       "    <tr>\n",
       "      <th>100831</th>\n",
       "      <td>610</td>\n",
       "      <td>166534</td>\n",
       "      <td>4.0</td>\n",
       "      <td>1493848402</td>\n",
       "    </tr>\n",
       "    <tr>\n",
       "      <th>100832</th>\n",
       "      <td>610</td>\n",
       "      <td>168248</td>\n",
       "      <td>5.0</td>\n",
       "      <td>1493850091</td>\n",
       "    </tr>\n",
       "    <tr>\n",
       "      <th>100833</th>\n",
       "      <td>610</td>\n",
       "      <td>168250</td>\n",
       "      <td>0.0</td>\n",
       "      <td>1494273047</td>\n",
       "    </tr>\n",
       "    <tr>\n",
       "      <th>100834</th>\n",
       "      <td>610</td>\n",
       "      <td>168252</td>\n",
       "      <td>5.0</td>\n",
       "      <td>1493846352</td>\n",
       "    </tr>\n",
       "    <tr>\n",
       "      <th>100835</th>\n",
       "      <td>610</td>\n",
       "      <td>170875</td>\n",
       "      <td>3.0</td>\n",
       "      <td>1493846415</td>\n",
       "    </tr>\n",
       "  </tbody>\n",
       "</table>\n",
       "<p>100836 rows × 4 columns</p>\n",
       "</div>"
      ],
      "text/plain": [
       "        user_id  item_id  rating   timestamp\n",
       "0             1        1     4.0   964982703\n",
       "1             1        3     0.0   964981247\n",
       "2             1        6     4.0   964982224\n",
       "3             1       47     5.0   964983815\n",
       "4             1       50     0.0   964982931\n",
       "...         ...      ...     ...         ...\n",
       "100831      610   166534     4.0  1493848402\n",
       "100832      610   168248     5.0  1493850091\n",
       "100833      610   168250     0.0  1494273047\n",
       "100834      610   168252     5.0  1493846352\n",
       "100835      610   170875     3.0  1493846415\n",
       "\n",
       "[100836 rows x 4 columns]"
      ]
     },
     "execution_count": 14,
     "metadata": {},
     "output_type": "execute_result"
    }
   ],
   "source": [
    "#data training\n",
    "df_train"
   ]
  },
  {
   "cell_type": "code",
   "execution_count": 15,
   "metadata": {
    "id": "wbnwlb3mO6AR"
   },
   "outputs": [],
   "source": [
    "#make rating 0\n",
    "df_test = df_rating\n",
    "for col in df_test.rating:\n",
    "    df_test['rating'].values[:] = 0"
   ]
  },
  {
   "cell_type": "code",
   "execution_count": 16,
   "metadata": {
    "id": "UYaRVYxbPFvp"
   },
   "outputs": [],
   "source": [
    "#Untuk test data\n",
    "for i in range(test.shape[0]):\n",
    "    df_test.loc[(df_test.user_id == test.iloc[[i]].user_id.values[0]) & (df_test.item_id == test.iloc[[i]].item_id.values[0]), 'rating'] = test.iloc[[i]].rating.values[0]"
   ]
  },
  {
   "cell_type": "code",
   "execution_count": 17,
   "metadata": {
    "colab": {
     "base_uri": "https://localhost:8080/",
     "height": 197
    },
    "executionInfo": {
     "elapsed": 961,
     "status": "ok",
     "timestamp": 1597045033234,
     "user": {
      "displayName": "Beladina Elfitri",
      "photoUrl": "https://lh3.googleusercontent.com/a-/AOh14GjVpaLeXl60I8TZeeKTv6wEVjZ-g6mVuxbOF-vwvQ=s64",
      "userId": "01535285485924194811"
     },
     "user_tz": -420
    },
    "id": "POewvJjgTQRB",
    "outputId": "3b63da8a-1d83-45cb-a0b2-6c620cc2bb5f"
   },
   "outputs": [
    {
     "data": {
      "text/html": [
       "<div>\n",
       "<style scoped>\n",
       "    .dataframe tbody tr th:only-of-type {\n",
       "        vertical-align: middle;\n",
       "    }\n",
       "\n",
       "    .dataframe tbody tr th {\n",
       "        vertical-align: top;\n",
       "    }\n",
       "\n",
       "    .dataframe thead th {\n",
       "        text-align: right;\n",
       "    }\n",
       "</style>\n",
       "<table border=\"1\" class=\"dataframe\">\n",
       "  <thead>\n",
       "    <tr style=\"text-align: right;\">\n",
       "      <th></th>\n",
       "      <th>user_id</th>\n",
       "      <th>item_id</th>\n",
       "      <th>rating</th>\n",
       "      <th>timestamp</th>\n",
       "    </tr>\n",
       "  </thead>\n",
       "  <tbody>\n",
       "    <tr>\n",
       "      <th>0</th>\n",
       "      <td>1</td>\n",
       "      <td>1</td>\n",
       "      <td>0.0</td>\n",
       "      <td>964982703</td>\n",
       "    </tr>\n",
       "    <tr>\n",
       "      <th>1</th>\n",
       "      <td>1</td>\n",
       "      <td>3</td>\n",
       "      <td>4.0</td>\n",
       "      <td>964981247</td>\n",
       "    </tr>\n",
       "    <tr>\n",
       "      <th>2</th>\n",
       "      <td>1</td>\n",
       "      <td>6</td>\n",
       "      <td>0.0</td>\n",
       "      <td>964982224</td>\n",
       "    </tr>\n",
       "    <tr>\n",
       "      <th>3</th>\n",
       "      <td>1</td>\n",
       "      <td>47</td>\n",
       "      <td>0.0</td>\n",
       "      <td>964983815</td>\n",
       "    </tr>\n",
       "    <tr>\n",
       "      <th>4</th>\n",
       "      <td>1</td>\n",
       "      <td>50</td>\n",
       "      <td>5.0</td>\n",
       "      <td>964982931</td>\n",
       "    </tr>\n",
       "    <tr>\n",
       "      <th>...</th>\n",
       "      <td>...</td>\n",
       "      <td>...</td>\n",
       "      <td>...</td>\n",
       "      <td>...</td>\n",
       "    </tr>\n",
       "    <tr>\n",
       "      <th>100831</th>\n",
       "      <td>610</td>\n",
       "      <td>166534</td>\n",
       "      <td>0.0</td>\n",
       "      <td>1493848402</td>\n",
       "    </tr>\n",
       "    <tr>\n",
       "      <th>100832</th>\n",
       "      <td>610</td>\n",
       "      <td>168248</td>\n",
       "      <td>0.0</td>\n",
       "      <td>1493850091</td>\n",
       "    </tr>\n",
       "    <tr>\n",
       "      <th>100833</th>\n",
       "      <td>610</td>\n",
       "      <td>168250</td>\n",
       "      <td>5.0</td>\n",
       "      <td>1494273047</td>\n",
       "    </tr>\n",
       "    <tr>\n",
       "      <th>100834</th>\n",
       "      <td>610</td>\n",
       "      <td>168252</td>\n",
       "      <td>0.0</td>\n",
       "      <td>1493846352</td>\n",
       "    </tr>\n",
       "    <tr>\n",
       "      <th>100835</th>\n",
       "      <td>610</td>\n",
       "      <td>170875</td>\n",
       "      <td>0.0</td>\n",
       "      <td>1493846415</td>\n",
       "    </tr>\n",
       "  </tbody>\n",
       "</table>\n",
       "<p>100836 rows × 4 columns</p>\n",
       "</div>"
      ],
      "text/plain": [
       "        user_id  item_id  rating   timestamp\n",
       "0             1        1     0.0   964982703\n",
       "1             1        3     4.0   964981247\n",
       "2             1        6     0.0   964982224\n",
       "3             1       47     0.0   964983815\n",
       "4             1       50     5.0   964982931\n",
       "...         ...      ...     ...         ...\n",
       "100831      610   166534     0.0  1493848402\n",
       "100832      610   168248     0.0  1493850091\n",
       "100833      610   168250     5.0  1494273047\n",
       "100834      610   168252     0.0  1493846352\n",
       "100835      610   170875     0.0  1493846415\n",
       "\n",
       "[100836 rows x 4 columns]"
      ]
     },
     "execution_count": 17,
     "metadata": {},
     "output_type": "execute_result"
    }
   ],
   "source": [
    "#data testing\n",
    "df_test"
   ]
  },
  {
   "cell_type": "markdown",
   "metadata": {
    "id": "ch6_E84KTCOg"
   },
   "source": [
    "## Collaborative Filtering"
   ]
  },
  {
   "cell_type": "code",
   "execution_count": 18,
   "metadata": {
    "id": "9LeGxWqY-ksR"
   },
   "outputs": [],
   "source": [
    "#matrix factorixation algorithm\n",
    "def matrix_factorization(R, P, Q, K, steps=100, alpha=0.002, beta=0.001):\n",
    "    Q = Q.T\n",
    "    print(Q)\n",
    "    for step in range(steps):\n",
    "        for i in range(len(R)):\n",
    "            for j in range(len(R[i])):\n",
    "                if R[i][j] > 0:\n",
    "                    eij = R[i][j] - np.dot(P[i,:],Q[:,j])\n",
    "                    for k in range(K):\n",
    "                        P[i][k] = P[i][k] + alpha * (2 * eij * Q[k][j] - beta * P[i][k])\n",
    "                        Q[k][j] = Q[k][j] + alpha * (2 * eij * P[i][k] - beta * Q[k][j])\n",
    "        eR = np.dot(P,Q)\n",
    "        e = 0\n",
    "        for i in range(len(R)):\n",
    "            for j in range(len(R[i])):\n",
    "                if R[i][j] > 0:\n",
    "                    e = e + pow(R[i][j] - np.dot(P[i,:],Q[:,j]), 2)\n",
    "                    for k in range(K):\n",
    "                        e = e + (beta/2) * ( pow(P[i][k],2) + pow(Q[k][j],2))\n",
    "\n",
    "        if e < 0.001:\n",
    "            break\n",
    "\n",
    "    return P, Q.T    "
   ]
  },
  {
   "cell_type": "markdown",
   "metadata": {
    "id": "XP2dUrKXOU-B"
   },
   "source": [
    "### Training matrix factorization"
   ]
  },
  {
   "cell_type": "code",
   "execution_count": 19,
   "metadata": {
    "colab": {
     "base_uri": "https://localhost:8080/",
     "height": 456
    },
    "executionInfo": {
     "elapsed": 971,
     "status": "ok",
     "timestamp": 1597045037991,
     "user": {
      "displayName": "Beladina Elfitri",
      "photoUrl": "https://lh3.googleusercontent.com/a-/AOh14GjVpaLeXl60I8TZeeKTv6wEVjZ-g6mVuxbOF-vwvQ=s64",
      "userId": "01535285485924194811"
     },
     "user_tz": -420
    },
    "id": "xc69AmnT4CzO",
    "outputId": "e243e9b7-476c-41d1-f934-7c5b3d6af798"
   },
   "outputs": [
    {
     "data": {
      "text/html": [
       "<div>\n",
       "<style scoped>\n",
       "    .dataframe tbody tr th:only-of-type {\n",
       "        vertical-align: middle;\n",
       "    }\n",
       "\n",
       "    .dataframe tbody tr th {\n",
       "        vertical-align: top;\n",
       "    }\n",
       "\n",
       "    .dataframe thead th {\n",
       "        text-align: right;\n",
       "    }\n",
       "</style>\n",
       "<table border=\"1\" class=\"dataframe\">\n",
       "  <thead>\n",
       "    <tr style=\"text-align: right;\">\n",
       "      <th>item_id</th>\n",
       "      <th>1</th>\n",
       "      <th>2</th>\n",
       "      <th>3</th>\n",
       "      <th>4</th>\n",
       "      <th>5</th>\n",
       "      <th>6</th>\n",
       "      <th>7</th>\n",
       "      <th>8</th>\n",
       "      <th>9</th>\n",
       "      <th>10</th>\n",
       "      <th>...</th>\n",
       "      <th>193565</th>\n",
       "      <th>193567</th>\n",
       "      <th>193571</th>\n",
       "      <th>193573</th>\n",
       "      <th>193579</th>\n",
       "      <th>193581</th>\n",
       "      <th>193583</th>\n",
       "      <th>193585</th>\n",
       "      <th>193587</th>\n",
       "      <th>193609</th>\n",
       "    </tr>\n",
       "    <tr>\n",
       "      <th>user_id</th>\n",
       "      <th></th>\n",
       "      <th></th>\n",
       "      <th></th>\n",
       "      <th></th>\n",
       "      <th></th>\n",
       "      <th></th>\n",
       "      <th></th>\n",
       "      <th></th>\n",
       "      <th></th>\n",
       "      <th></th>\n",
       "      <th></th>\n",
       "      <th></th>\n",
       "      <th></th>\n",
       "      <th></th>\n",
       "      <th></th>\n",
       "      <th></th>\n",
       "      <th></th>\n",
       "      <th></th>\n",
       "      <th></th>\n",
       "      <th></th>\n",
       "      <th></th>\n",
       "    </tr>\n",
       "  </thead>\n",
       "  <tbody>\n",
       "    <tr>\n",
       "      <th>1</th>\n",
       "      <td>0.0</td>\n",
       "      <td>0.0</td>\n",
       "      <td>4.0</td>\n",
       "      <td>0.0</td>\n",
       "      <td>0.0</td>\n",
       "      <td>0.0</td>\n",
       "      <td>0.0</td>\n",
       "      <td>0.0</td>\n",
       "      <td>0.0</td>\n",
       "      <td>0.0</td>\n",
       "      <td>...</td>\n",
       "      <td>0.0</td>\n",
       "      <td>0.0</td>\n",
       "      <td>0.0</td>\n",
       "      <td>0.0</td>\n",
       "      <td>0.0</td>\n",
       "      <td>0.0</td>\n",
       "      <td>0.0</td>\n",
       "      <td>0.0</td>\n",
       "      <td>0.0</td>\n",
       "      <td>0.0</td>\n",
       "    </tr>\n",
       "    <tr>\n",
       "      <th>2</th>\n",
       "      <td>0.0</td>\n",
       "      <td>0.0</td>\n",
       "      <td>0.0</td>\n",
       "      <td>0.0</td>\n",
       "      <td>0.0</td>\n",
       "      <td>0.0</td>\n",
       "      <td>0.0</td>\n",
       "      <td>0.0</td>\n",
       "      <td>0.0</td>\n",
       "      <td>0.0</td>\n",
       "      <td>...</td>\n",
       "      <td>0.0</td>\n",
       "      <td>0.0</td>\n",
       "      <td>0.0</td>\n",
       "      <td>0.0</td>\n",
       "      <td>0.0</td>\n",
       "      <td>0.0</td>\n",
       "      <td>0.0</td>\n",
       "      <td>0.0</td>\n",
       "      <td>0.0</td>\n",
       "      <td>0.0</td>\n",
       "    </tr>\n",
       "    <tr>\n",
       "      <th>3</th>\n",
       "      <td>0.0</td>\n",
       "      <td>0.0</td>\n",
       "      <td>0.0</td>\n",
       "      <td>0.0</td>\n",
       "      <td>0.0</td>\n",
       "      <td>0.0</td>\n",
       "      <td>0.0</td>\n",
       "      <td>0.0</td>\n",
       "      <td>0.0</td>\n",
       "      <td>0.0</td>\n",
       "      <td>...</td>\n",
       "      <td>0.0</td>\n",
       "      <td>0.0</td>\n",
       "      <td>0.0</td>\n",
       "      <td>0.0</td>\n",
       "      <td>0.0</td>\n",
       "      <td>0.0</td>\n",
       "      <td>0.0</td>\n",
       "      <td>0.0</td>\n",
       "      <td>0.0</td>\n",
       "      <td>0.0</td>\n",
       "    </tr>\n",
       "    <tr>\n",
       "      <th>4</th>\n",
       "      <td>0.0</td>\n",
       "      <td>0.0</td>\n",
       "      <td>0.0</td>\n",
       "      <td>0.0</td>\n",
       "      <td>0.0</td>\n",
       "      <td>0.0</td>\n",
       "      <td>0.0</td>\n",
       "      <td>0.0</td>\n",
       "      <td>0.0</td>\n",
       "      <td>0.0</td>\n",
       "      <td>...</td>\n",
       "      <td>0.0</td>\n",
       "      <td>0.0</td>\n",
       "      <td>0.0</td>\n",
       "      <td>0.0</td>\n",
       "      <td>0.0</td>\n",
       "      <td>0.0</td>\n",
       "      <td>0.0</td>\n",
       "      <td>0.0</td>\n",
       "      <td>0.0</td>\n",
       "      <td>0.0</td>\n",
       "    </tr>\n",
       "    <tr>\n",
       "      <th>5</th>\n",
       "      <td>0.0</td>\n",
       "      <td>0.0</td>\n",
       "      <td>0.0</td>\n",
       "      <td>0.0</td>\n",
       "      <td>0.0</td>\n",
       "      <td>0.0</td>\n",
       "      <td>0.0</td>\n",
       "      <td>0.0</td>\n",
       "      <td>0.0</td>\n",
       "      <td>0.0</td>\n",
       "      <td>...</td>\n",
       "      <td>0.0</td>\n",
       "      <td>0.0</td>\n",
       "      <td>0.0</td>\n",
       "      <td>0.0</td>\n",
       "      <td>0.0</td>\n",
       "      <td>0.0</td>\n",
       "      <td>0.0</td>\n",
       "      <td>0.0</td>\n",
       "      <td>0.0</td>\n",
       "      <td>0.0</td>\n",
       "    </tr>\n",
       "    <tr>\n",
       "      <th>...</th>\n",
       "      <td>...</td>\n",
       "      <td>...</td>\n",
       "      <td>...</td>\n",
       "      <td>...</td>\n",
       "      <td>...</td>\n",
       "      <td>...</td>\n",
       "      <td>...</td>\n",
       "      <td>...</td>\n",
       "      <td>...</td>\n",
       "      <td>...</td>\n",
       "      <td>...</td>\n",
       "      <td>...</td>\n",
       "      <td>...</td>\n",
       "      <td>...</td>\n",
       "      <td>...</td>\n",
       "      <td>...</td>\n",
       "      <td>...</td>\n",
       "      <td>...</td>\n",
       "      <td>...</td>\n",
       "      <td>...</td>\n",
       "      <td>...</td>\n",
       "    </tr>\n",
       "    <tr>\n",
       "      <th>606</th>\n",
       "      <td>2.5</td>\n",
       "      <td>0.0</td>\n",
       "      <td>0.0</td>\n",
       "      <td>0.0</td>\n",
       "      <td>0.0</td>\n",
       "      <td>0.0</td>\n",
       "      <td>2.5</td>\n",
       "      <td>0.0</td>\n",
       "      <td>0.0</td>\n",
       "      <td>0.0</td>\n",
       "      <td>...</td>\n",
       "      <td>0.0</td>\n",
       "      <td>0.0</td>\n",
       "      <td>0.0</td>\n",
       "      <td>0.0</td>\n",
       "      <td>0.0</td>\n",
       "      <td>0.0</td>\n",
       "      <td>0.0</td>\n",
       "      <td>0.0</td>\n",
       "      <td>0.0</td>\n",
       "      <td>0.0</td>\n",
       "    </tr>\n",
       "    <tr>\n",
       "      <th>607</th>\n",
       "      <td>0.0</td>\n",
       "      <td>0.0</td>\n",
       "      <td>0.0</td>\n",
       "      <td>0.0</td>\n",
       "      <td>0.0</td>\n",
       "      <td>0.0</td>\n",
       "      <td>0.0</td>\n",
       "      <td>0.0</td>\n",
       "      <td>0.0</td>\n",
       "      <td>0.0</td>\n",
       "      <td>...</td>\n",
       "      <td>0.0</td>\n",
       "      <td>0.0</td>\n",
       "      <td>0.0</td>\n",
       "      <td>0.0</td>\n",
       "      <td>0.0</td>\n",
       "      <td>0.0</td>\n",
       "      <td>0.0</td>\n",
       "      <td>0.0</td>\n",
       "      <td>0.0</td>\n",
       "      <td>0.0</td>\n",
       "    </tr>\n",
       "    <tr>\n",
       "      <th>608</th>\n",
       "      <td>0.0</td>\n",
       "      <td>0.0</td>\n",
       "      <td>0.0</td>\n",
       "      <td>0.0</td>\n",
       "      <td>0.0</td>\n",
       "      <td>0.0</td>\n",
       "      <td>0.0</td>\n",
       "      <td>0.0</td>\n",
       "      <td>0.0</td>\n",
       "      <td>0.0</td>\n",
       "      <td>...</td>\n",
       "      <td>0.0</td>\n",
       "      <td>0.0</td>\n",
       "      <td>0.0</td>\n",
       "      <td>0.0</td>\n",
       "      <td>0.0</td>\n",
       "      <td>0.0</td>\n",
       "      <td>0.0</td>\n",
       "      <td>0.0</td>\n",
       "      <td>0.0</td>\n",
       "      <td>0.0</td>\n",
       "    </tr>\n",
       "    <tr>\n",
       "      <th>609</th>\n",
       "      <td>0.0</td>\n",
       "      <td>0.0</td>\n",
       "      <td>0.0</td>\n",
       "      <td>0.0</td>\n",
       "      <td>0.0</td>\n",
       "      <td>0.0</td>\n",
       "      <td>0.0</td>\n",
       "      <td>0.0</td>\n",
       "      <td>0.0</td>\n",
       "      <td>0.0</td>\n",
       "      <td>...</td>\n",
       "      <td>0.0</td>\n",
       "      <td>0.0</td>\n",
       "      <td>0.0</td>\n",
       "      <td>0.0</td>\n",
       "      <td>0.0</td>\n",
       "      <td>0.0</td>\n",
       "      <td>0.0</td>\n",
       "      <td>0.0</td>\n",
       "      <td>0.0</td>\n",
       "      <td>0.0</td>\n",
       "    </tr>\n",
       "    <tr>\n",
       "      <th>610</th>\n",
       "      <td>0.0</td>\n",
       "      <td>0.0</td>\n",
       "      <td>0.0</td>\n",
       "      <td>0.0</td>\n",
       "      <td>0.0</td>\n",
       "      <td>0.0</td>\n",
       "      <td>0.0</td>\n",
       "      <td>0.0</td>\n",
       "      <td>0.0</td>\n",
       "      <td>0.0</td>\n",
       "      <td>...</td>\n",
       "      <td>0.0</td>\n",
       "      <td>0.0</td>\n",
       "      <td>0.0</td>\n",
       "      <td>0.0</td>\n",
       "      <td>0.0</td>\n",
       "      <td>0.0</td>\n",
       "      <td>0.0</td>\n",
       "      <td>0.0</td>\n",
       "      <td>0.0</td>\n",
       "      <td>0.0</td>\n",
       "    </tr>\n",
       "  </tbody>\n",
       "</table>\n",
       "<p>610 rows × 9724 columns</p>\n",
       "</div>"
      ],
      "text/plain": [
       "item_id  1       2       3       4       5       6       7       8       \\\n",
       "user_id                                                                   \n",
       "1           0.0     0.0     4.0     0.0     0.0     0.0     0.0     0.0   \n",
       "2           0.0     0.0     0.0     0.0     0.0     0.0     0.0     0.0   \n",
       "3           0.0     0.0     0.0     0.0     0.0     0.0     0.0     0.0   \n",
       "4           0.0     0.0     0.0     0.0     0.0     0.0     0.0     0.0   \n",
       "5           0.0     0.0     0.0     0.0     0.0     0.0     0.0     0.0   \n",
       "...         ...     ...     ...     ...     ...     ...     ...     ...   \n",
       "606         2.5     0.0     0.0     0.0     0.0     0.0     2.5     0.0   \n",
       "607         0.0     0.0     0.0     0.0     0.0     0.0     0.0     0.0   \n",
       "608         0.0     0.0     0.0     0.0     0.0     0.0     0.0     0.0   \n",
       "609         0.0     0.0     0.0     0.0     0.0     0.0     0.0     0.0   \n",
       "610         0.0     0.0     0.0     0.0     0.0     0.0     0.0     0.0   \n",
       "\n",
       "item_id  9       10      ...  193565  193567  193571  193573  193579  193581  \\\n",
       "user_id                  ...                                                   \n",
       "1           0.0     0.0  ...     0.0     0.0     0.0     0.0     0.0     0.0   \n",
       "2           0.0     0.0  ...     0.0     0.0     0.0     0.0     0.0     0.0   \n",
       "3           0.0     0.0  ...     0.0     0.0     0.0     0.0     0.0     0.0   \n",
       "4           0.0     0.0  ...     0.0     0.0     0.0     0.0     0.0     0.0   \n",
       "5           0.0     0.0  ...     0.0     0.0     0.0     0.0     0.0     0.0   \n",
       "...         ...     ...  ...     ...     ...     ...     ...     ...     ...   \n",
       "606         0.0     0.0  ...     0.0     0.0     0.0     0.0     0.0     0.0   \n",
       "607         0.0     0.0  ...     0.0     0.0     0.0     0.0     0.0     0.0   \n",
       "608         0.0     0.0  ...     0.0     0.0     0.0     0.0     0.0     0.0   \n",
       "609         0.0     0.0  ...     0.0     0.0     0.0     0.0     0.0     0.0   \n",
       "610         0.0     0.0  ...     0.0     0.0     0.0     0.0     0.0     0.0   \n",
       "\n",
       "item_id  193583  193585  193587  193609  \n",
       "user_id                                  \n",
       "1           0.0     0.0     0.0     0.0  \n",
       "2           0.0     0.0     0.0     0.0  \n",
       "3           0.0     0.0     0.0     0.0  \n",
       "4           0.0     0.0     0.0     0.0  \n",
       "5           0.0     0.0     0.0     0.0  \n",
       "...         ...     ...     ...     ...  \n",
       "606         0.0     0.0     0.0     0.0  \n",
       "607         0.0     0.0     0.0     0.0  \n",
       "608         0.0     0.0     0.0     0.0  \n",
       "609         0.0     0.0     0.0     0.0  \n",
       "610         0.0     0.0     0.0     0.0  \n",
       "\n",
       "[610 rows x 9724 columns]"
      ]
     },
     "execution_count": 19,
     "metadata": {},
     "output_type": "execute_result"
    }
   ],
   "source": [
    "#make matrix \n",
    "mf_train = df_train.pivot(index='user_id', columns='item_id', values='rating')\n",
    "mf_train = mf_train.fillna(0)\n",
    "mf_train"
   ]
  },
  {
   "cell_type": "code",
   "execution_count": 20,
   "metadata": {
    "colab": {
     "base_uri": "https://localhost:8080/",
     "height": 141
    },
    "executionInfo": {
     "elapsed": 717947,
     "status": "ok",
     "timestamp": 1597045760926,
     "user": {
      "displayName": "Beladina Elfitri",
      "photoUrl": "https://lh3.googleusercontent.com/a-/AOh14GjVpaLeXl60I8TZeeKTv6wEVjZ-g6mVuxbOF-vwvQ=s64",
      "userId": "01535285485924194811"
     },
     "user_tz": -420
    },
    "id": "ZwuEwjL0-hS5",
    "outputId": "2a9ffb3f-9db2-44d3-a154-f5bf1c92a834"
   },
   "outputs": [
    {
     "name": "stdout",
     "output_type": "stream",
     "text": [
      "[[0.35889478 0.66696192 0.75327697 ... 0.73270676 0.11395664 0.80372143]\n",
      " [0.95427722 0.16290717 0.2079624  ... 0.87598752 0.73024935 0.31622526]\n",
      " [0.79409133 0.94336163 0.48478252 ... 0.32094039 0.11878283 0.89152642]\n",
      " ...\n",
      " [0.68329351 0.60347736 0.98937903 ... 0.8140287  0.59149665 0.63521877]\n",
      " [0.34463113 0.11673897 0.86424074 ... 0.03857218 0.64552943 0.53543975]\n",
      " [0.05118551 0.15960022 0.038406   ... 0.53521261 0.3687317  0.42730549]]\n"
     ]
    }
   ],
   "source": [
    "#Collaborative Filtering Process\n",
    "mf_train = mf_train.to_numpy()\n",
    "\n",
    "N = len(mf_train)\n",
    "M = len(mf_train[0])\n",
    "\n",
    "K = 8\n",
    "\n",
    "P = np.random.rand(N,K)\n",
    "Q = np.random.rand(M,K)\n",
    "\n",
    "user_latent_features, item_latent_features = matrix_factorization(mf_train, P, Q, K)"
   ]
  },
  {
   "cell_type": "code",
   "execution_count": 21,
   "metadata": {
    "id": "qkw537mXjCIx",
    "outputId": "94549e68-9a42-40dd-8c36-bfe7108888f9"
   },
   "outputs": [
    {
     "data": {
      "text/plain": [
       "array([[0.45202719, 0.85840227, 0.77152111, ..., 0.38702184, 0.05780065,\n",
       "        0.67401093],\n",
       "       [0.20553972, 0.99915744, 0.89807191, ..., 0.50758118, 0.08655571,\n",
       "        0.65603388],\n",
       "       [0.42895326, 0.17474527, 0.37318991, ..., 0.49005146, 0.87274775,\n",
       "        0.97683398],\n",
       "       ...,\n",
       "       [0.63395921, 0.50034623, 0.06252867, ..., 0.66990522, 0.74595445,\n",
       "        0.85370079],\n",
       "       [0.39078376, 0.37120991, 0.4621919 , ..., 0.60488255, 0.27983003,\n",
       "        0.77300005],\n",
       "       [0.14966479, 0.96420032, 0.636661  , ..., 0.48662616, 0.64336251,\n",
       "        0.87319578]])"
      ]
     },
     "execution_count": 21,
     "metadata": {},
     "output_type": "execute_result"
    }
   ],
   "source": [
    "np.random.rand(N,K)"
   ]
  },
  {
   "cell_type": "code",
   "execution_count": 22,
   "metadata": {
    "colab": {
     "base_uri": "https://localhost:8080/",
     "height": 158
    },
    "executionInfo": {
     "elapsed": 1364,
     "status": "ok",
     "timestamp": 1597045762324,
     "user": {
      "displayName": "Beladina Elfitri",
      "photoUrl": "https://lh3.googleusercontent.com/a-/AOh14GjVpaLeXl60I8TZeeKTv6wEVjZ-g6mVuxbOF-vwvQ=s64",
      "userId": "01535285485924194811"
     },
     "user_tz": -420
    },
    "id": "A3mcsOm9-vC7",
    "outputId": "293bc41f-d1fc-40f4-86e8-084be82e42f3"
   },
   "outputs": [
    {
     "name": "stdout",
     "output_type": "stream",
     "text": [
      "The original matrix\n",
      "[[0. 0. 4. ... 0. 0. 0.]\n",
      " [0. 0. 0. ... 0. 0. 0.]\n",
      " [0. 0. 0. ... 0. 0. 0.]\n",
      " ...\n",
      " [0. 0. 0. ... 0. 0. 0.]\n",
      " [0. 0. 0. ... 0. 0. 0.]\n",
      " [0. 0. 0. ... 0. 0. 0.]]\n"
     ]
    }
   ],
   "source": [
    "print(\"The original matrix\")\n",
    "print(mf_train)"
   ]
  },
  {
   "cell_type": "code",
   "execution_count": 23,
   "metadata": {
    "colab": {
     "base_uri": "https://localhost:8080/",
     "height": 158
    },
    "executionInfo": {
     "elapsed": 1343,
     "status": "ok",
     "timestamp": 1597045762325,
     "user": {
      "displayName": "Beladina Elfitri",
      "photoUrl": "https://lh3.googleusercontent.com/a-/AOh14GjVpaLeXl60I8TZeeKTv6wEVjZ-g6mVuxbOF-vwvQ=s64",
      "userId": "01535285485924194811"
     },
     "user_tz": -420
    },
    "id": "6VOqXu7l4Yqk",
    "outputId": "04bdc7e3-044a-48b9-f33e-916fb21089b7"
   },
   "outputs": [
    {
     "name": "stdout",
     "output_type": "stream",
     "text": [
      "The approximation matrix by MF\n",
      "[[3.6909236  4.22610708 3.68859077 ... 3.61188587 3.48848852 5.4894669 ]\n",
      " [3.87741589 4.11736274 3.68243955 ... 3.95638689 2.82950053 4.64405908]\n",
      " [1.124114   0.26182868 0.32030705 ... 0.57518647 1.52198136 1.59650592]\n",
      " ...\n",
      " [4.79476189 3.12105864 3.53590014 ... 4.10368121 2.70674269 4.16598532]\n",
      " [3.44383024 3.19608387 3.24694322 ... 3.15052347 2.94915372 4.23977677]\n",
      " [3.72282987 3.30623698 2.83174739 ... 3.97040906 3.31443953 4.46165707]]\n"
     ]
    }
   ],
   "source": [
    "train_pred = np.dot(user_latent_features, item_latent_features.T)\n",
    "print(\"The approximation matrix by MF\")\n",
    "print(train_pred)"
   ]
  },
  {
   "cell_type": "markdown",
   "metadata": {
    "id": "Y1YOJwEUTgz9"
   },
   "source": [
    "#### Evaluation Training "
   ]
  },
  {
   "cell_type": "code",
   "execution_count": 24,
   "metadata": {
    "colab": {
     "base_uri": "https://localhost:8080/",
     "height": 52
    },
    "executionInfo": {
     "elapsed": 6032,
     "status": "ok",
     "timestamp": 1597045767027,
     "user": {
      "displayName": "Beladina Elfitri",
      "photoUrl": "https://lh3.googleusercontent.com/a-/AOh14GjVpaLeXl60I8TZeeKTv6wEVjZ-g6mVuxbOF-vwvQ=s64",
      "userId": "01535285485924194811"
     },
     "user_tz": -420
    },
    "id": "8jeekgf5M6z1",
    "outputId": "b5c09d01-69b5-4f80-f89e-4f844f327bdc"
   },
   "outputs": [
    {
     "name": "stdout",
     "output_type": "stream",
     "text": [
      "MSE Training =  0.23169804703792132\n",
      "RMSE Training =  0.48135023323763054\n"
     ]
    }
   ],
   "source": [
    "#calculate mse and rmse for training set\n",
    "pred = train_pred\n",
    "testset = mf_train\n",
    "total = 0\n",
    "jum = 0\n",
    "for i in range(len(testset)):\n",
    "    for j in range(len(testset[i])):\n",
    "        if testset[i][j] != 0:\n",
    "            total += (pred[i][j] - testset[i][j])**2\n",
    "            jum += 1\n",
    "\n",
    "mse = total / jum\n",
    "print('MSE Training = ', mse)\n",
    "rmse = mse**0.5\n",
    "print('RMSE Training = ', rmse)"
   ]
  },
  {
   "cell_type": "markdown",
   "metadata": {
    "id": "XJu7ho71PYuh"
   },
   "source": [
    "### Testing matrix factorization"
   ]
  },
  {
   "cell_type": "code",
   "execution_count": 25,
   "metadata": {
    "colab": {
     "base_uri": "https://localhost:8080/",
     "height": 456
    },
    "executionInfo": {
     "elapsed": 2231,
     "status": "ok",
     "timestamp": 1597045771252,
     "user": {
      "displayName": "Beladina Elfitri",
      "photoUrl": "https://lh3.googleusercontent.com/a-/AOh14GjVpaLeXl60I8TZeeKTv6wEVjZ-g6mVuxbOF-vwvQ=s64",
      "userId": "01535285485924194811"
     },
     "user_tz": -420
    },
    "id": "tn9H37BdaDLl",
    "outputId": "f4e3932f-9ee7-445b-db99-4806dba649fb"
   },
   "outputs": [
    {
     "data": {
      "text/html": [
       "<div>\n",
       "<style scoped>\n",
       "    .dataframe tbody tr th:only-of-type {\n",
       "        vertical-align: middle;\n",
       "    }\n",
       "\n",
       "    .dataframe tbody tr th {\n",
       "        vertical-align: top;\n",
       "    }\n",
       "\n",
       "    .dataframe thead th {\n",
       "        text-align: right;\n",
       "    }\n",
       "</style>\n",
       "<table border=\"1\" class=\"dataframe\">\n",
       "  <thead>\n",
       "    <tr style=\"text-align: right;\">\n",
       "      <th>item_id</th>\n",
       "      <th>1</th>\n",
       "      <th>2</th>\n",
       "      <th>3</th>\n",
       "      <th>4</th>\n",
       "      <th>5</th>\n",
       "      <th>6</th>\n",
       "      <th>7</th>\n",
       "      <th>8</th>\n",
       "      <th>9</th>\n",
       "      <th>10</th>\n",
       "      <th>...</th>\n",
       "      <th>193565</th>\n",
       "      <th>193567</th>\n",
       "      <th>193571</th>\n",
       "      <th>193573</th>\n",
       "      <th>193579</th>\n",
       "      <th>193581</th>\n",
       "      <th>193583</th>\n",
       "      <th>193585</th>\n",
       "      <th>193587</th>\n",
       "      <th>193609</th>\n",
       "    </tr>\n",
       "    <tr>\n",
       "      <th>user_id</th>\n",
       "      <th></th>\n",
       "      <th></th>\n",
       "      <th></th>\n",
       "      <th></th>\n",
       "      <th></th>\n",
       "      <th></th>\n",
       "      <th></th>\n",
       "      <th></th>\n",
       "      <th></th>\n",
       "      <th></th>\n",
       "      <th></th>\n",
       "      <th></th>\n",
       "      <th></th>\n",
       "      <th></th>\n",
       "      <th></th>\n",
       "      <th></th>\n",
       "      <th></th>\n",
       "      <th></th>\n",
       "      <th></th>\n",
       "      <th></th>\n",
       "      <th></th>\n",
       "    </tr>\n",
       "  </thead>\n",
       "  <tbody>\n",
       "    <tr>\n",
       "      <th>1</th>\n",
       "      <td>0.0</td>\n",
       "      <td>0.0</td>\n",
       "      <td>4.0</td>\n",
       "      <td>0.0</td>\n",
       "      <td>0.0</td>\n",
       "      <td>0.0</td>\n",
       "      <td>0.0</td>\n",
       "      <td>0.0</td>\n",
       "      <td>0.0</td>\n",
       "      <td>0.0</td>\n",
       "      <td>...</td>\n",
       "      <td>0.0</td>\n",
       "      <td>0.0</td>\n",
       "      <td>0.0</td>\n",
       "      <td>0.0</td>\n",
       "      <td>0.0</td>\n",
       "      <td>0.0</td>\n",
       "      <td>0.0</td>\n",
       "      <td>0.0</td>\n",
       "      <td>0.0</td>\n",
       "      <td>0.0</td>\n",
       "    </tr>\n",
       "    <tr>\n",
       "      <th>2</th>\n",
       "      <td>0.0</td>\n",
       "      <td>0.0</td>\n",
       "      <td>0.0</td>\n",
       "      <td>0.0</td>\n",
       "      <td>0.0</td>\n",
       "      <td>0.0</td>\n",
       "      <td>0.0</td>\n",
       "      <td>0.0</td>\n",
       "      <td>0.0</td>\n",
       "      <td>0.0</td>\n",
       "      <td>...</td>\n",
       "      <td>0.0</td>\n",
       "      <td>0.0</td>\n",
       "      <td>0.0</td>\n",
       "      <td>0.0</td>\n",
       "      <td>0.0</td>\n",
       "      <td>0.0</td>\n",
       "      <td>0.0</td>\n",
       "      <td>0.0</td>\n",
       "      <td>0.0</td>\n",
       "      <td>0.0</td>\n",
       "    </tr>\n",
       "    <tr>\n",
       "      <th>3</th>\n",
       "      <td>0.0</td>\n",
       "      <td>0.0</td>\n",
       "      <td>0.0</td>\n",
       "      <td>0.0</td>\n",
       "      <td>0.0</td>\n",
       "      <td>0.0</td>\n",
       "      <td>0.0</td>\n",
       "      <td>0.0</td>\n",
       "      <td>0.0</td>\n",
       "      <td>0.0</td>\n",
       "      <td>...</td>\n",
       "      <td>0.0</td>\n",
       "      <td>0.0</td>\n",
       "      <td>0.0</td>\n",
       "      <td>0.0</td>\n",
       "      <td>0.0</td>\n",
       "      <td>0.0</td>\n",
       "      <td>0.0</td>\n",
       "      <td>0.0</td>\n",
       "      <td>0.0</td>\n",
       "      <td>0.0</td>\n",
       "    </tr>\n",
       "    <tr>\n",
       "      <th>4</th>\n",
       "      <td>0.0</td>\n",
       "      <td>0.0</td>\n",
       "      <td>0.0</td>\n",
       "      <td>0.0</td>\n",
       "      <td>0.0</td>\n",
       "      <td>0.0</td>\n",
       "      <td>0.0</td>\n",
       "      <td>0.0</td>\n",
       "      <td>0.0</td>\n",
       "      <td>0.0</td>\n",
       "      <td>...</td>\n",
       "      <td>0.0</td>\n",
       "      <td>0.0</td>\n",
       "      <td>0.0</td>\n",
       "      <td>0.0</td>\n",
       "      <td>0.0</td>\n",
       "      <td>0.0</td>\n",
       "      <td>0.0</td>\n",
       "      <td>0.0</td>\n",
       "      <td>0.0</td>\n",
       "      <td>0.0</td>\n",
       "    </tr>\n",
       "    <tr>\n",
       "      <th>5</th>\n",
       "      <td>0.0</td>\n",
       "      <td>0.0</td>\n",
       "      <td>0.0</td>\n",
       "      <td>0.0</td>\n",
       "      <td>0.0</td>\n",
       "      <td>0.0</td>\n",
       "      <td>0.0</td>\n",
       "      <td>0.0</td>\n",
       "      <td>0.0</td>\n",
       "      <td>0.0</td>\n",
       "      <td>...</td>\n",
       "      <td>0.0</td>\n",
       "      <td>0.0</td>\n",
       "      <td>0.0</td>\n",
       "      <td>0.0</td>\n",
       "      <td>0.0</td>\n",
       "      <td>0.0</td>\n",
       "      <td>0.0</td>\n",
       "      <td>0.0</td>\n",
       "      <td>0.0</td>\n",
       "      <td>0.0</td>\n",
       "    </tr>\n",
       "    <tr>\n",
       "      <th>...</th>\n",
       "      <td>...</td>\n",
       "      <td>...</td>\n",
       "      <td>...</td>\n",
       "      <td>...</td>\n",
       "      <td>...</td>\n",
       "      <td>...</td>\n",
       "      <td>...</td>\n",
       "      <td>...</td>\n",
       "      <td>...</td>\n",
       "      <td>...</td>\n",
       "      <td>...</td>\n",
       "      <td>...</td>\n",
       "      <td>...</td>\n",
       "      <td>...</td>\n",
       "      <td>...</td>\n",
       "      <td>...</td>\n",
       "      <td>...</td>\n",
       "      <td>...</td>\n",
       "      <td>...</td>\n",
       "      <td>...</td>\n",
       "      <td>...</td>\n",
       "    </tr>\n",
       "    <tr>\n",
       "      <th>606</th>\n",
       "      <td>2.5</td>\n",
       "      <td>0.0</td>\n",
       "      <td>0.0</td>\n",
       "      <td>0.0</td>\n",
       "      <td>0.0</td>\n",
       "      <td>0.0</td>\n",
       "      <td>2.5</td>\n",
       "      <td>0.0</td>\n",
       "      <td>0.0</td>\n",
       "      <td>0.0</td>\n",
       "      <td>...</td>\n",
       "      <td>0.0</td>\n",
       "      <td>0.0</td>\n",
       "      <td>0.0</td>\n",
       "      <td>0.0</td>\n",
       "      <td>0.0</td>\n",
       "      <td>0.0</td>\n",
       "      <td>0.0</td>\n",
       "      <td>0.0</td>\n",
       "      <td>0.0</td>\n",
       "      <td>0.0</td>\n",
       "    </tr>\n",
       "    <tr>\n",
       "      <th>607</th>\n",
       "      <td>0.0</td>\n",
       "      <td>0.0</td>\n",
       "      <td>0.0</td>\n",
       "      <td>0.0</td>\n",
       "      <td>0.0</td>\n",
       "      <td>0.0</td>\n",
       "      <td>0.0</td>\n",
       "      <td>0.0</td>\n",
       "      <td>0.0</td>\n",
       "      <td>0.0</td>\n",
       "      <td>...</td>\n",
       "      <td>0.0</td>\n",
       "      <td>0.0</td>\n",
       "      <td>0.0</td>\n",
       "      <td>0.0</td>\n",
       "      <td>0.0</td>\n",
       "      <td>0.0</td>\n",
       "      <td>0.0</td>\n",
       "      <td>0.0</td>\n",
       "      <td>0.0</td>\n",
       "      <td>0.0</td>\n",
       "    </tr>\n",
       "    <tr>\n",
       "      <th>608</th>\n",
       "      <td>0.0</td>\n",
       "      <td>0.0</td>\n",
       "      <td>0.0</td>\n",
       "      <td>0.0</td>\n",
       "      <td>0.0</td>\n",
       "      <td>0.0</td>\n",
       "      <td>0.0</td>\n",
       "      <td>0.0</td>\n",
       "      <td>0.0</td>\n",
       "      <td>0.0</td>\n",
       "      <td>...</td>\n",
       "      <td>0.0</td>\n",
       "      <td>0.0</td>\n",
       "      <td>0.0</td>\n",
       "      <td>0.0</td>\n",
       "      <td>0.0</td>\n",
       "      <td>0.0</td>\n",
       "      <td>0.0</td>\n",
       "      <td>0.0</td>\n",
       "      <td>0.0</td>\n",
       "      <td>0.0</td>\n",
       "    </tr>\n",
       "    <tr>\n",
       "      <th>609</th>\n",
       "      <td>0.0</td>\n",
       "      <td>0.0</td>\n",
       "      <td>0.0</td>\n",
       "      <td>0.0</td>\n",
       "      <td>0.0</td>\n",
       "      <td>0.0</td>\n",
       "      <td>0.0</td>\n",
       "      <td>0.0</td>\n",
       "      <td>0.0</td>\n",
       "      <td>0.0</td>\n",
       "      <td>...</td>\n",
       "      <td>0.0</td>\n",
       "      <td>0.0</td>\n",
       "      <td>0.0</td>\n",
       "      <td>0.0</td>\n",
       "      <td>0.0</td>\n",
       "      <td>0.0</td>\n",
       "      <td>0.0</td>\n",
       "      <td>0.0</td>\n",
       "      <td>0.0</td>\n",
       "      <td>0.0</td>\n",
       "    </tr>\n",
       "    <tr>\n",
       "      <th>610</th>\n",
       "      <td>0.0</td>\n",
       "      <td>0.0</td>\n",
       "      <td>0.0</td>\n",
       "      <td>0.0</td>\n",
       "      <td>0.0</td>\n",
       "      <td>0.0</td>\n",
       "      <td>0.0</td>\n",
       "      <td>0.0</td>\n",
       "      <td>0.0</td>\n",
       "      <td>0.0</td>\n",
       "      <td>...</td>\n",
       "      <td>0.0</td>\n",
       "      <td>0.0</td>\n",
       "      <td>0.0</td>\n",
       "      <td>0.0</td>\n",
       "      <td>0.0</td>\n",
       "      <td>0.0</td>\n",
       "      <td>0.0</td>\n",
       "      <td>0.0</td>\n",
       "      <td>0.0</td>\n",
       "      <td>0.0</td>\n",
       "    </tr>\n",
       "  </tbody>\n",
       "</table>\n",
       "<p>610 rows × 9724 columns</p>\n",
       "</div>"
      ],
      "text/plain": [
       "item_id  1       2       3       4       5       6       7       8       \\\n",
       "user_id                                                                   \n",
       "1           0.0     0.0     4.0     0.0     0.0     0.0     0.0     0.0   \n",
       "2           0.0     0.0     0.0     0.0     0.0     0.0     0.0     0.0   \n",
       "3           0.0     0.0     0.0     0.0     0.0     0.0     0.0     0.0   \n",
       "4           0.0     0.0     0.0     0.0     0.0     0.0     0.0     0.0   \n",
       "5           0.0     0.0     0.0     0.0     0.0     0.0     0.0     0.0   \n",
       "...         ...     ...     ...     ...     ...     ...     ...     ...   \n",
       "606         2.5     0.0     0.0     0.0     0.0     0.0     2.5     0.0   \n",
       "607         0.0     0.0     0.0     0.0     0.0     0.0     0.0     0.0   \n",
       "608         0.0     0.0     0.0     0.0     0.0     0.0     0.0     0.0   \n",
       "609         0.0     0.0     0.0     0.0     0.0     0.0     0.0     0.0   \n",
       "610         0.0     0.0     0.0     0.0     0.0     0.0     0.0     0.0   \n",
       "\n",
       "item_id  9       10      ...  193565  193567  193571  193573  193579  193581  \\\n",
       "user_id                  ...                                                   \n",
       "1           0.0     0.0  ...     0.0     0.0     0.0     0.0     0.0     0.0   \n",
       "2           0.0     0.0  ...     0.0     0.0     0.0     0.0     0.0     0.0   \n",
       "3           0.0     0.0  ...     0.0     0.0     0.0     0.0     0.0     0.0   \n",
       "4           0.0     0.0  ...     0.0     0.0     0.0     0.0     0.0     0.0   \n",
       "5           0.0     0.0  ...     0.0     0.0     0.0     0.0     0.0     0.0   \n",
       "...         ...     ...  ...     ...     ...     ...     ...     ...     ...   \n",
       "606         0.0     0.0  ...     0.0     0.0     0.0     0.0     0.0     0.0   \n",
       "607         0.0     0.0  ...     0.0     0.0     0.0     0.0     0.0     0.0   \n",
       "608         0.0     0.0  ...     0.0     0.0     0.0     0.0     0.0     0.0   \n",
       "609         0.0     0.0  ...     0.0     0.0     0.0     0.0     0.0     0.0   \n",
       "610         0.0     0.0  ...     0.0     0.0     0.0     0.0     0.0     0.0   \n",
       "\n",
       "item_id  193583  193585  193587  193609  \n",
       "user_id                                  \n",
       "1           0.0     0.0     0.0     0.0  \n",
       "2           0.0     0.0     0.0     0.0  \n",
       "3           0.0     0.0     0.0     0.0  \n",
       "4           0.0     0.0     0.0     0.0  \n",
       "5           0.0     0.0     0.0     0.0  \n",
       "...         ...     ...     ...     ...  \n",
       "606         0.0     0.0     0.0     0.0  \n",
       "607         0.0     0.0     0.0     0.0  \n",
       "608         0.0     0.0     0.0     0.0  \n",
       "609         0.0     0.0     0.0     0.0  \n",
       "610         0.0     0.0     0.0     0.0  \n",
       "\n",
       "[610 rows x 9724 columns]"
      ]
     },
     "execution_count": 25,
     "metadata": {},
     "output_type": "execute_result"
    }
   ],
   "source": [
    "#make matrif for testing\n",
    "mf_test = df_test.pivot(index='user_id', columns='item_id', values='rating')\n",
    "mf_test = mf_test.fillna(0)\n",
    "mf_test"
   ]
  },
  {
   "cell_type": "code",
   "execution_count": 26,
   "metadata": {
    "colab": {
     "base_uri": "https://localhost:8080/",
     "height": 141
    },
    "executionInfo": {
     "elapsed": 726146,
     "status": "ok",
     "timestamp": 1597046497656,
     "user": {
      "displayName": "Beladina Elfitri",
      "photoUrl": "https://lh3.googleusercontent.com/a-/AOh14GjVpaLeXl60I8TZeeKTv6wEVjZ-g6mVuxbOF-vwvQ=s64",
      "userId": "01535285485924194811"
     },
     "user_tz": -420
    },
    "id": "ZyF2N0-4lfZn",
    "outputId": "bcdc9c9c-7369-4430-9726-4ced9bb868c0"
   },
   "outputs": [
    {
     "name": "stdout",
     "output_type": "stream",
     "text": [
      "[[0.37038152 0.25632865 0.88879887 ... 0.27256962 0.68557625 0.22606959]\n",
      " [0.3093492  0.37564227 0.43903874 ... 0.802824   0.54364207 0.8477265 ]\n",
      " [0.88347188 0.32094673 0.59110776 ... 0.97474077 0.89272168 0.55337252]\n",
      " ...\n",
      " [0.92933813 0.39897907 0.70457732 ... 0.16397282 0.99876656 0.19309977]\n",
      " [0.65284909 0.44707773 0.80182049 ... 0.30989777 0.25461236 0.47582392]\n",
      " [0.19289551 0.37993602 0.83253222 ... 0.30335562 0.14536375 0.03086733]]\n"
     ]
    }
   ],
   "source": [
    "#testing process\n",
    "\n",
    "mf_test = mf_test.to_numpy()\n",
    "\n",
    "N = len(mf_test)\n",
    "M = len(mf_test[0])\n",
    "\n",
    "K = 8\n",
    "\n",
    "P = np.random.rand(N,K)\n",
    "Q = np.random.rand(M,K)\n",
    "\n",
    "user_latent_features_test, item_latent_features_test = matrix_factorization(mf_test, P, Q, K)"
   ]
  },
  {
   "cell_type": "code",
   "execution_count": 27,
   "metadata": {
    "colab": {
     "base_uri": "https://localhost:8080/",
     "height": 158
    },
    "executionInfo": {
     "elapsed": 724470,
     "status": "ok",
     "timestamp": 1597046497658,
     "user": {
      "displayName": "Beladina Elfitri",
      "photoUrl": "https://lh3.googleusercontent.com/a-/AOh14GjVpaLeXl60I8TZeeKTv6wEVjZ-g6mVuxbOF-vwvQ=s64",
      "userId": "01535285485924194811"
     },
     "user_tz": -420
    },
    "id": "__E8EFLFmnnR",
    "outputId": "60bcc171-91cc-48ca-96bb-de95f4c2a021"
   },
   "outputs": [
    {
     "name": "stdout",
     "output_type": "stream",
     "text": [
      "The original matrix\n",
      "[[0. 0. 4. ... 0. 0. 0.]\n",
      " [0. 0. 0. ... 0. 0. 0.]\n",
      " [0. 0. 0. ... 0. 0. 0.]\n",
      " ...\n",
      " [0. 0. 0. ... 0. 0. 0.]\n",
      " [0. 0. 0. ... 0. 0. 0.]\n",
      " [0. 0. 0. ... 0. 0. 0.]]\n"
     ]
    }
   ],
   "source": [
    "print(\"The original matrix\")\n",
    "print(mf_test)"
   ]
  },
  {
   "cell_type": "code",
   "execution_count": 28,
   "metadata": {
    "colab": {
     "base_uri": "https://localhost:8080/",
     "height": 158
    },
    "executionInfo": {
     "elapsed": 720222,
     "status": "ok",
     "timestamp": 1597046497659,
     "user": {
      "displayName": "Beladina Elfitri",
      "photoUrl": "https://lh3.googleusercontent.com/a-/AOh14GjVpaLeXl60I8TZeeKTv6wEVjZ-g6mVuxbOF-vwvQ=s64",
      "userId": "01535285485924194811"
     },
     "user_tz": -420
    },
    "id": "AGj5_1Rvmqpq",
    "outputId": "2afeb7fe-3b33-428c-cf16-f27e41fe7870"
   },
   "outputs": [
    {
     "name": "stdout",
     "output_type": "stream",
     "text": [
      "The approximation matrix by MF\n",
      "[[5.06033324 4.05434563 3.54881167 ... 3.11120947 4.7774277  4.04913376]\n",
      " [3.70197693 3.52470482 2.86325858 ... 3.32310799 3.95072724 3.60799597]\n",
      " [1.10958001 1.69845971 1.05086454 ... 1.22029943 1.24558349 1.91970737]\n",
      " ...\n",
      " [3.96333345 3.43403725 3.5516935  ... 3.52134694 3.98469599 4.17477893]\n",
      " [3.80334887 2.98115214 3.02176641 ... 2.46373397 3.45820382 3.2711042 ]\n",
      " [4.37699768 3.80945943 3.02282807 ... 2.95858915 3.94809295 3.62723881]]\n"
     ]
    }
   ],
   "source": [
    "test_pred = np.dot(user_latent_features_test, item_latent_features_test.T)\n",
    "print(\"The approximation matrix by MF\")\n",
    "print(test_pred)"
   ]
  },
  {
   "cell_type": "markdown",
   "metadata": {
    "id": "H_Vyg3bLTsa0"
   },
   "source": [
    "#### Testing Evaluation"
   ]
  },
  {
   "cell_type": "code",
   "execution_count": 29,
   "metadata": {
    "colab": {
     "base_uri": "https://localhost:8080/",
     "height": 52
    },
    "executionInfo": {
     "elapsed": 721412,
     "status": "ok",
     "timestamp": 1597046500529,
     "user": {
      "displayName": "Beladina Elfitri",
      "photoUrl": "https://lh3.googleusercontent.com/a-/AOh14GjVpaLeXl60I8TZeeKTv6wEVjZ-g6mVuxbOF-vwvQ=s64",
      "userId": "01535285485924194811"
     },
     "user_tz": -420
    },
    "id": "DH-R3l4YmulJ",
    "outputId": "8b509f1b-57a5-4164-8cca-292205d5fa41"
   },
   "outputs": [
    {
     "name": "stdout",
     "output_type": "stream",
     "text": [
      "MSE =  0.24384516475555384\n",
      "RMSE =  0.49380680914255715\n"
     ]
    }
   ],
   "source": [
    "#Menghitung testing MSE and RMSE\n",
    "pred = test_pred\n",
    "testset = mf_test\n",
    "total = 0\n",
    "jum = 0\n",
    "for i in range(len(testset)):\n",
    "    for j in range(len(testset[i])):\n",
    "        if testset[i][j] != 0:\n",
    "            total += (pred[i][j] - testset[i][j])**2\n",
    "            jum += 1\n",
    "\n",
    "mse = total / jum\n",
    "print('MSE = ', mse)\n",
    "rmse = mse**0.5\n",
    "print('RMSE = ', rmse)"
   ]
  },
  {
   "cell_type": "markdown",
   "metadata": {
    "id": "b4FkxHUzUUkm"
   },
   "source": [
    "## Recommendation process"
   ]
  },
  {
   "cell_type": "markdown",
   "metadata": {
    "id": "3A6rdHTSWQi8"
   },
   "source": [
    "Top 20 movies for each user"
   ]
  },
  {
   "cell_type": "code",
   "execution_count": 30,
   "metadata": {
    "id": "25HGnv6bsIwR"
   },
   "outputs": [],
   "source": [
    "movie_rec = []\n",
    "for i in range(len(test_pred)):\n",
    "    movie_rec.append([np.argsort(-1*test_pred[i])[:20]])"
   ]
  },
  {
   "cell_type": "code",
   "execution_count": 31,
   "metadata": {
    "id": "Jcarxcq3rn9T"
   },
   "outputs": [],
   "source": [
    "movierec = df_train.pivot(index='user_id', columns='item_id', values='rating')\n",
    "movierec = movierec.fillna(0)"
   ]
  },
  {
   "cell_type": "code",
   "execution_count": 32,
   "metadata": {
    "id": "nSIHXMEDcmpZ"
   },
   "outputs": [],
   "source": [
    "df_movierec = pd.DataFrame(columns=['user','movie_recommendation'])\n",
    "for i in range(len(movie_rec)):\n",
    "    rec = []\n",
    "    for j in range(len(movie_rec[i])):\n",
    "        rec.append(movierec.columns[movie_rec[i][j]])  \n",
    "    movie = []\n",
    "    for k in range(len(rec[0])):\n",
    "        movie.append(df_movies.loc[df_movies.movie_id == rec[0][k]].title.values[0])\n",
    "    df_movierec.loc[i,'user'] = i\n",
    "    df_movierec.loc[i,'movie_recommendation'] = movie"
   ]
  },
  {
   "cell_type": "markdown",
   "metadata": {
    "id": "7EiOl7fLY-Ux"
   },
   "source": [
    "Movie recommendation for user 546th"
   ]
  },
  {
   "cell_type": "code",
   "execution_count": 33,
   "metadata": {
    "colab": {
     "base_uri": "https://localhost:8080/",
     "height": 372
    },
    "executionInfo": {
     "elapsed": 2057,
     "status": "ok",
     "timestamp": 1597046535756,
     "user": {
      "displayName": "Beladina Elfitri",
      "photoUrl": "https://lh3.googleusercontent.com/a-/AOh14GjVpaLeXl60I8TZeeKTv6wEVjZ-g6mVuxbOF-vwvQ=s64",
      "userId": "01535285485924194811"
     },
     "user_tz": -420
    },
    "id": "eQ_KMFj-tsqf",
    "outputId": "20086db9-719e-47a5-a93d-2edc3d1ba495"
   },
   "outputs": [
    {
     "data": {
      "text/plain": [
       "['Mr. Skeffington (1944)',\n",
       " 'Hustler, The (1961)',\n",
       " 'Galaxy of Terror (Quest) (1981)',\n",
       " \"Amelie (Fabuleux destin d'Amélie Poulain, Le) (2001)\",\n",
       " 'Towering Inferno, The (1974)',\n",
       " 'Neon Genesis Evangelion: The End of Evangelion (Shin seiki Evangelion Gekijô-ban: Air/Magokoro wo, kimi ni) (1997)',\n",
       " '8 ½ Women (a.k.a. 8 1/2 Women) (a.k.a. Eight and a Half Women) (1999)',\n",
       " 'The Idolmaker (1980)',\n",
       " 'Master of the Flying Guillotine (Du bi quan wang da po xue di zi) (1975)',\n",
       " 'Producers, The (1968)',\n",
       " 'Woman in the Dunes (Suna no onna) (1964)',\n",
       " 'Four Lions (2010)',\n",
       " 'Holiday Inn (1942)',\n",
       " 'Yojimbo (1961)',\n",
       " 'Keanu (2016)',\n",
       " 'Children of Heaven, The (Bacheha-Ye Aseman) (1997)',\n",
       " 'On the Beach (1959)',\n",
       " 'Ten, The (2007)',\n",
       " 'World of Glory (1991)',\n",
       " 'Mrs. Brown (a.k.a. Her Majesty, Mrs. Brown) (1997)']"
      ]
     },
     "execution_count": 33,
     "metadata": {},
     "output_type": "execute_result"
    }
   ],
   "source": [
    "df_movierec.loc[546].movie_recommendation"
   ]
  },
  {
   "cell_type": "code",
   "execution_count": 34,
   "metadata": {
    "id": "YXqZGu9BjCI1",
    "outputId": "ee77fcc4-1c7d-4c0f-d938-80b01a7b959d"
   },
   "outputs": [
    {
     "data": {
      "text/html": [
       "<div>\n",
       "<style scoped>\n",
       "    .dataframe tbody tr th:only-of-type {\n",
       "        vertical-align: middle;\n",
       "    }\n",
       "\n",
       "    .dataframe tbody tr th {\n",
       "        vertical-align: top;\n",
       "    }\n",
       "\n",
       "    .dataframe thead th {\n",
       "        text-align: right;\n",
       "    }\n",
       "</style>\n",
       "<table border=\"1\" class=\"dataframe\">\n",
       "  <thead>\n",
       "    <tr style=\"text-align: right;\">\n",
       "      <th></th>\n",
       "      <th>user</th>\n",
       "      <th>movie_recommendation</th>\n",
       "    </tr>\n",
       "  </thead>\n",
       "  <tbody>\n",
       "    <tr>\n",
       "      <th>0</th>\n",
       "      <td>0</td>\n",
       "      <td>[Galaxy of Terror (Quest) (1981), Bad Boy Bubb...</td>\n",
       "    </tr>\n",
       "    <tr>\n",
       "      <th>1</th>\n",
       "      <td>1</td>\n",
       "      <td>[Galaxy of Terror (Quest) (1981), Towering Inf...</td>\n",
       "    </tr>\n",
       "    <tr>\n",
       "      <th>2</th>\n",
       "      <td>2</td>\n",
       "      <td>[Galaxy of Terror (Quest) (1981), Master of th...</td>\n",
       "    </tr>\n",
       "    <tr>\n",
       "      <th>3</th>\n",
       "      <td>3</td>\n",
       "      <td>[Raiders of the Lost Ark (Indiana Jones and th...</td>\n",
       "    </tr>\n",
       "    <tr>\n",
       "      <th>4</th>\n",
       "      <td>4</td>\n",
       "      <td>[Galaxy of Terror (Quest) (1981), Towering Inf...</td>\n",
       "    </tr>\n",
       "    <tr>\n",
       "      <th>...</th>\n",
       "      <td>...</td>\n",
       "      <td>...</td>\n",
       "    </tr>\n",
       "    <tr>\n",
       "      <th>605</th>\n",
       "      <td>605</td>\n",
       "      <td>[Towering Inferno, The (1974), Mr. Skeffington...</td>\n",
       "    </tr>\n",
       "    <tr>\n",
       "      <th>606</th>\n",
       "      <td>606</td>\n",
       "      <td>[Priest (1994), Galaxy of Terror (Quest) (1981...</td>\n",
       "    </tr>\n",
       "    <tr>\n",
       "      <th>607</th>\n",
       "      <td>607</td>\n",
       "      <td>[You Can Count on Me (2000), Purge: Anarchy, T...</td>\n",
       "    </tr>\n",
       "    <tr>\n",
       "      <th>608</th>\n",
       "      <td>608</td>\n",
       "      <td>[Galaxy of Terror (Quest) (1981), Mr. Skeffing...</td>\n",
       "    </tr>\n",
       "    <tr>\n",
       "      <th>609</th>\n",
       "      <td>609</td>\n",
       "      <td>[Bad Boy Bubby (1993), Towering Inferno, The (...</td>\n",
       "    </tr>\n",
       "  </tbody>\n",
       "</table>\n",
       "<p>610 rows × 2 columns</p>\n",
       "</div>"
      ],
      "text/plain": [
       "    user                               movie_recommendation\n",
       "0      0  [Galaxy of Terror (Quest) (1981), Bad Boy Bubb...\n",
       "1      1  [Galaxy of Terror (Quest) (1981), Towering Inf...\n",
       "2      2  [Galaxy of Terror (Quest) (1981), Master of th...\n",
       "3      3  [Raiders of the Lost Ark (Indiana Jones and th...\n",
       "4      4  [Galaxy of Terror (Quest) (1981), Towering Inf...\n",
       "..   ...                                                ...\n",
       "605  605  [Towering Inferno, The (1974), Mr. Skeffington...\n",
       "606  606  [Priest (1994), Galaxy of Terror (Quest) (1981...\n",
       "607  607  [You Can Count on Me (2000), Purge: Anarchy, T...\n",
       "608  608  [Galaxy of Terror (Quest) (1981), Mr. Skeffing...\n",
       "609  609  [Bad Boy Bubby (1993), Towering Inferno, The (...\n",
       "\n",
       "[610 rows x 2 columns]"
      ]
     },
     "execution_count": 34,
     "metadata": {},
     "output_type": "execute_result"
    }
   ],
   "source": [
    "df_movierec"
   ]
  },
  {
   "cell_type": "markdown",
   "metadata": {
    "id": "K3-w8hBv0Ynr"
   },
   "source": [
    "## Content-Based Filtering"
   ]
  },
  {
   "cell_type": "code",
   "execution_count": 36,
   "metadata": {
    "id": "C9myEUrYQqrj"
   },
   "outputs": [],
   "source": [
    "#dataset genre music\n",
    "header = ['movie_id', 'title', 'genre']\n",
    "df_movies = pd.read_csv('movies.csv', sep=',', names =header, skiprows=1)"
   ]
  },
  {
   "cell_type": "code",
   "execution_count": 37,
   "metadata": {
    "colab": {
     "base_uri": "https://localhost:8080/",
     "height": 197
    },
    "executionInfo": {
     "elapsed": 3579,
     "status": "ok",
     "timestamp": 1597046548793,
     "user": {
      "displayName": "Beladina Elfitri",
      "photoUrl": "https://lh3.googleusercontent.com/a-/AOh14GjVpaLeXl60I8TZeeKTv6wEVjZ-g6mVuxbOF-vwvQ=s64",
      "userId": "01535285485924194811"
     },
     "user_tz": -420
    },
    "id": "ogaJos1_znW1",
    "outputId": "69f4c889-3a17-4f73-ed80-b5f5eebf4f25"
   },
   "outputs": [
    {
     "data": {
      "text/html": [
       "<div>\n",
       "<style scoped>\n",
       "    .dataframe tbody tr th:only-of-type {\n",
       "        vertical-align: middle;\n",
       "    }\n",
       "\n",
       "    .dataframe tbody tr th {\n",
       "        vertical-align: top;\n",
       "    }\n",
       "\n",
       "    .dataframe thead th {\n",
       "        text-align: right;\n",
       "    }\n",
       "</style>\n",
       "<table border=\"1\" class=\"dataframe\">\n",
       "  <thead>\n",
       "    <tr style=\"text-align: right;\">\n",
       "      <th></th>\n",
       "      <th>movie_id</th>\n",
       "      <th>title</th>\n",
       "      <th>genre</th>\n",
       "    </tr>\n",
       "  </thead>\n",
       "  <tbody>\n",
       "    <tr>\n",
       "      <th>0</th>\n",
       "      <td>1</td>\n",
       "      <td>Toy Story (1995)</td>\n",
       "      <td>Adventure|Animation|Children|Comedy|Fantasy</td>\n",
       "    </tr>\n",
       "    <tr>\n",
       "      <th>1</th>\n",
       "      <td>2</td>\n",
       "      <td>Jumanji (1995)</td>\n",
       "      <td>Adventure|Children|Fantasy</td>\n",
       "    </tr>\n",
       "    <tr>\n",
       "      <th>2</th>\n",
       "      <td>3</td>\n",
       "      <td>Grumpier Old Men (1995)</td>\n",
       "      <td>Comedy|Romance</td>\n",
       "    </tr>\n",
       "    <tr>\n",
       "      <th>3</th>\n",
       "      <td>4</td>\n",
       "      <td>Waiting to Exhale (1995)</td>\n",
       "      <td>Comedy|Drama|Romance</td>\n",
       "    </tr>\n",
       "    <tr>\n",
       "      <th>4</th>\n",
       "      <td>5</td>\n",
       "      <td>Father of the Bride Part II (1995)</td>\n",
       "      <td>Comedy</td>\n",
       "    </tr>\n",
       "  </tbody>\n",
       "</table>\n",
       "</div>"
      ],
      "text/plain": [
       "   movie_id                               title  \\\n",
       "0         1                    Toy Story (1995)   \n",
       "1         2                      Jumanji (1995)   \n",
       "2         3             Grumpier Old Men (1995)   \n",
       "3         4            Waiting to Exhale (1995)   \n",
       "4         5  Father of the Bride Part II (1995)   \n",
       "\n",
       "                                         genre  \n",
       "0  Adventure|Animation|Children|Comedy|Fantasy  \n",
       "1                   Adventure|Children|Fantasy  \n",
       "2                               Comedy|Romance  \n",
       "3                         Comedy|Drama|Romance  \n",
       "4                                       Comedy  "
      ]
     },
     "execution_count": 37,
     "metadata": {},
     "output_type": "execute_result"
    }
   ],
   "source": [
    "df_movies.head()"
   ]
  },
  {
   "cell_type": "code",
   "execution_count": 38,
   "metadata": {
    "id": "NSg0yL68jCI2",
    "outputId": "39a6087d-592d-4cc3-d135-974190c33ee5"
   },
   "outputs": [
    {
     "name": "stdout",
     "output_type": "stream",
     "text": [
      "<class 'pandas.core.frame.DataFrame'>\n",
      "RangeIndex: 9742 entries, 0 to 9741\n",
      "Data columns (total 3 columns):\n",
      " #   Column    Non-Null Count  Dtype \n",
      "---  ------    --------------  ----- \n",
      " 0   movie_id  9742 non-null   int64 \n",
      " 1   title     9742 non-null   object\n",
      " 2   genre     9742 non-null   object\n",
      "dtypes: int64(1), object(2)\n",
      "memory usage: 228.5+ KB\n"
     ]
    }
   ],
   "source": [
    "df_movies.info()"
   ]
  },
  {
   "cell_type": "code",
   "execution_count": 39,
   "metadata": {
    "id": "UBISugiXjCI2",
    "outputId": "416c8400-b15e-4f42-f110-219e127ced91"
   },
   "outputs": [
    {
     "data": {
      "text/html": [
       "<div>\n",
       "<style scoped>\n",
       "    .dataframe tbody tr th:only-of-type {\n",
       "        vertical-align: middle;\n",
       "    }\n",
       "\n",
       "    .dataframe tbody tr th {\n",
       "        vertical-align: top;\n",
       "    }\n",
       "\n",
       "    .dataframe thead th {\n",
       "        text-align: right;\n",
       "    }\n",
       "</style>\n",
       "<table border=\"1\" class=\"dataframe\">\n",
       "  <thead>\n",
       "    <tr style=\"text-align: right;\">\n",
       "      <th></th>\n",
       "      <th>movie_id</th>\n",
       "    </tr>\n",
       "  </thead>\n",
       "  <tbody>\n",
       "    <tr>\n",
       "      <th>count</th>\n",
       "      <td>9742.000000</td>\n",
       "    </tr>\n",
       "    <tr>\n",
       "      <th>mean</th>\n",
       "      <td>42200.353623</td>\n",
       "    </tr>\n",
       "    <tr>\n",
       "      <th>std</th>\n",
       "      <td>52160.494854</td>\n",
       "    </tr>\n",
       "    <tr>\n",
       "      <th>min</th>\n",
       "      <td>1.000000</td>\n",
       "    </tr>\n",
       "    <tr>\n",
       "      <th>25%</th>\n",
       "      <td>3248.250000</td>\n",
       "    </tr>\n",
       "    <tr>\n",
       "      <th>50%</th>\n",
       "      <td>7300.000000</td>\n",
       "    </tr>\n",
       "    <tr>\n",
       "      <th>75%</th>\n",
       "      <td>76232.000000</td>\n",
       "    </tr>\n",
       "    <tr>\n",
       "      <th>max</th>\n",
       "      <td>193609.000000</td>\n",
       "    </tr>\n",
       "  </tbody>\n",
       "</table>\n",
       "</div>"
      ],
      "text/plain": [
       "            movie_id\n",
       "count    9742.000000\n",
       "mean    42200.353623\n",
       "std     52160.494854\n",
       "min         1.000000\n",
       "25%      3248.250000\n",
       "50%      7300.000000\n",
       "75%     76232.000000\n",
       "max    193609.000000"
      ]
     },
     "execution_count": 39,
     "metadata": {},
     "output_type": "execute_result"
    }
   ],
   "source": [
    "df_movies.describe()"
   ]
  },
  {
   "cell_type": "code",
   "execution_count": 40,
   "metadata": {
    "colab": {
     "base_uri": "https://localhost:8080/",
     "height": 34
    },
    "executionInfo": {
     "elapsed": 2178,
     "status": "ok",
     "timestamp": 1597046548795,
     "user": {
      "displayName": "Beladina Elfitri",
      "photoUrl": "https://lh3.googleusercontent.com/a-/AOh14GjVpaLeXl60I8TZeeKTv6wEVjZ-g6mVuxbOF-vwvQ=s64",
      "userId": "01535285485924194811"
     },
     "user_tz": -420
    },
    "id": "En144a_dzySw",
    "outputId": "8664f878-d778-4f37-8ad0-8df5c2c20fa6"
   },
   "outputs": [
    {
     "data": {
      "text/plain": [
       "(9742, 3)"
      ]
     },
     "execution_count": 40,
     "metadata": {},
     "output_type": "execute_result"
    }
   ],
   "source": [
    "df_movies.shape"
   ]
  },
  {
   "cell_type": "code",
   "execution_count": 41,
   "metadata": {
    "colab": {
     "base_uri": "https://localhost:8080/",
     "height": 34
    },
    "executionInfo": {
     "elapsed": 2064,
     "status": "ok",
     "timestamp": 1597046549599,
     "user": {
      "displayName": "Beladina Elfitri",
      "photoUrl": "https://lh3.googleusercontent.com/a-/AOh14GjVpaLeXl60I8TZeeKTv6wEVjZ-g6mVuxbOF-vwvQ=s64",
      "userId": "01535285485924194811"
     },
     "user_tz": -420
    },
    "id": "-1k9HnsXznNY",
    "outputId": "6bf10f8d-5c81-4b5e-c2f9-05bf871e7ad2"
   },
   "outputs": [
    {
     "name": "stdout",
     "output_type": "stream",
     "text": [
      "Number of movies =  9737\n"
     ]
    }
   ],
   "source": [
    "n_title = df_movies.title.unique().shape[0]\n",
    "print('Number of movies = ', n_title)"
   ]
  },
  {
   "cell_type": "markdown",
   "metadata": {
    "id": "vi_cI2ZLZHQz"
   },
   "source": [
    "### Pre-processing dataset"
   ]
  },
  {
   "cell_type": "code",
   "execution_count": 42,
   "metadata": {
    "colab": {
     "base_uri": "https://localhost:8080/",
     "height": 197
    },
    "executionInfo": {
     "elapsed": 2937,
     "status": "ok",
     "timestamp": 1597046572370,
     "user": {
      "displayName": "Beladina Elfitri",
      "photoUrl": "https://lh3.googleusercontent.com/a-/AOh14GjVpaLeXl60I8TZeeKTv6wEVjZ-g6mVuxbOF-vwvQ=s64",
      "userId": "01535285485924194811"
     },
     "user_tz": -420
    },
    "id": "etcIofDPz0-L",
    "outputId": "efa458e4-c29e-4064-f240-80838758cd3e"
   },
   "outputs": [
    {
     "data": {
      "text/html": [
       "<div>\n",
       "<style scoped>\n",
       "    .dataframe tbody tr th:only-of-type {\n",
       "        vertical-align: middle;\n",
       "    }\n",
       "\n",
       "    .dataframe tbody tr th {\n",
       "        vertical-align: top;\n",
       "    }\n",
       "\n",
       "    .dataframe thead th {\n",
       "        text-align: right;\n",
       "    }\n",
       "</style>\n",
       "<table border=\"1\" class=\"dataframe\">\n",
       "  <thead>\n",
       "    <tr style=\"text-align: right;\">\n",
       "      <th></th>\n",
       "      <th>movie_id</th>\n",
       "      <th>title</th>\n",
       "      <th>genre</th>\n",
       "      <th>related</th>\n",
       "    </tr>\n",
       "  </thead>\n",
       "  <tbody>\n",
       "    <tr>\n",
       "      <th>0</th>\n",
       "      <td>1</td>\n",
       "      <td>Toy Story (1995)</td>\n",
       "      <td>Adventure|Animation|Children|Comedy|Fantasy</td>\n",
       "      <td>[adventure, animation, children, comedy, fantasy]</td>\n",
       "    </tr>\n",
       "    <tr>\n",
       "      <th>1</th>\n",
       "      <td>2</td>\n",
       "      <td>Jumanji (1995)</td>\n",
       "      <td>Adventure|Children|Fantasy</td>\n",
       "      <td>[adventure, children, fantasy]</td>\n",
       "    </tr>\n",
       "    <tr>\n",
       "      <th>2</th>\n",
       "      <td>3</td>\n",
       "      <td>Grumpier Old Men (1995)</td>\n",
       "      <td>Comedy|Romance</td>\n",
       "      <td>[comedy, romance]</td>\n",
       "    </tr>\n",
       "    <tr>\n",
       "      <th>3</th>\n",
       "      <td>4</td>\n",
       "      <td>Waiting to Exhale (1995)</td>\n",
       "      <td>Comedy|Drama|Romance</td>\n",
       "      <td>[comedy, drama, romance]</td>\n",
       "    </tr>\n",
       "    <tr>\n",
       "      <th>4</th>\n",
       "      <td>5</td>\n",
       "      <td>Father of the Bride Part II (1995)</td>\n",
       "      <td>Comedy</td>\n",
       "      <td>[comedy]</td>\n",
       "    </tr>\n",
       "  </tbody>\n",
       "</table>\n",
       "</div>"
      ],
      "text/plain": [
       "   movie_id                               title  \\\n",
       "0         1                    Toy Story (1995)   \n",
       "1         2                      Jumanji (1995)   \n",
       "2         3             Grumpier Old Men (1995)   \n",
       "3         4            Waiting to Exhale (1995)   \n",
       "4         5  Father of the Bride Part II (1995)   \n",
       "\n",
       "                                         genre  \\\n",
       "0  Adventure|Animation|Children|Comedy|Fantasy   \n",
       "1                   Adventure|Children|Fantasy   \n",
       "2                               Comedy|Romance   \n",
       "3                         Comedy|Drama|Romance   \n",
       "4                                       Comedy   \n",
       "\n",
       "                                             related  \n",
       "0  [adventure, animation, children, comedy, fantasy]  \n",
       "1                     [adventure, children, fantasy]  \n",
       "2                                  [comedy, romance]  \n",
       "3                           [comedy, drama, romance]  \n",
       "4                                           [comedy]  "
      ]
     },
     "execution_count": 42,
     "metadata": {},
     "output_type": "execute_result"
    }
   ],
   "source": [
    "#praproses genre menjadi kata-kata dan huruf kecil\n",
    "df_movies['related'] = df_movies['genre'].map(lambda x: x.lower().split('|')) \n",
    "df_movies.head()"
   ]
  },
  {
   "cell_type": "code",
   "execution_count": 43,
   "metadata": {
    "colab": {
     "base_uri": "https://localhost:8080/",
     "height": 286
    },
    "executionInfo": {
     "elapsed": 3399,
     "status": "ok",
     "timestamp": 1597046573844,
     "user": {
      "displayName": "Beladina Elfitri",
      "photoUrl": "https://lh3.googleusercontent.com/a-/AOh14GjVpaLeXl60I8TZeeKTv6wEVjZ-g6mVuxbOF-vwvQ=s64",
      "userId": "01535285485924194811"
     },
     "user_tz": -420
    },
    "id": "qdH6d0h2z2tF",
    "outputId": "f017188a-984a-4f12-b93f-babb1cede802"
   },
   "outputs": [
    {
     "name": "stderr",
     "output_type": "stream",
     "text": [
      "C:\\Users\\asepm\\AppData\\Local\\Temp/ipykernel_21980/75952740.py:6: SettingWithCopyWarning: \n",
      "A value is trying to be set on a copy of a slice from a DataFrame\n",
      "\n",
      "See the caveats in the documentation: https://pandas.pydata.org/pandas-docs/stable/user_guide/indexing.html#returning-a-view-versus-a-copy\n",
      "  df_movies['title'][i] = re.sub(r'\\((\\d{4})\\)', '', df_movies['title'][i])\n",
      "C:\\Users\\asepm\\AppData\\Local\\Temp/ipykernel_21980/75952740.py:8: SettingWithCopyWarning: \n",
      "A value is trying to be set on a copy of a slice from a DataFrame\n",
      "\n",
      "See the caveats in the documentation: https://pandas.pydata.org/pandas-docs/stable/user_guide/indexing.html#returning-a-view-versus-a-copy\n",
      "  df_movies['related'][i] = ','.join(df_movies['related'][i])\n"
     ]
    },
    {
     "data": {
      "text/html": [
       "<div>\n",
       "<style scoped>\n",
       "    .dataframe tbody tr th:only-of-type {\n",
       "        vertical-align: middle;\n",
       "    }\n",
       "\n",
       "    .dataframe tbody tr th {\n",
       "        vertical-align: top;\n",
       "    }\n",
       "\n",
       "    .dataframe thead th {\n",
       "        text-align: right;\n",
       "    }\n",
       "</style>\n",
       "<table border=\"1\" class=\"dataframe\">\n",
       "  <thead>\n",
       "    <tr style=\"text-align: right;\">\n",
       "      <th></th>\n",
       "      <th>movie_id</th>\n",
       "      <th>title</th>\n",
       "      <th>genre</th>\n",
       "      <th>related</th>\n",
       "    </tr>\n",
       "  </thead>\n",
       "  <tbody>\n",
       "    <tr>\n",
       "      <th>0</th>\n",
       "      <td>1</td>\n",
       "      <td>Toy Story</td>\n",
       "      <td>Adventure|Animation|Children|Comedy|Fantasy</td>\n",
       "      <td>adventure,animation,children,comedy,fantasy, 1...</td>\n",
       "    </tr>\n",
       "    <tr>\n",
       "      <th>1</th>\n",
       "      <td>2</td>\n",
       "      <td>Jumanji</td>\n",
       "      <td>Adventure|Children|Fantasy</td>\n",
       "      <td>adventure,children,fantasy, 1995s</td>\n",
       "    </tr>\n",
       "    <tr>\n",
       "      <th>2</th>\n",
       "      <td>3</td>\n",
       "      <td>Grumpier Old Men</td>\n",
       "      <td>Comedy|Romance</td>\n",
       "      <td>comedy,romance, 1995s</td>\n",
       "    </tr>\n",
       "    <tr>\n",
       "      <th>3</th>\n",
       "      <td>4</td>\n",
       "      <td>Waiting to Exhale</td>\n",
       "      <td>Comedy|Drama|Romance</td>\n",
       "      <td>comedy,drama,romance, 1995s</td>\n",
       "    </tr>\n",
       "    <tr>\n",
       "      <th>4</th>\n",
       "      <td>5</td>\n",
       "      <td>Father of the Bride Part II</td>\n",
       "      <td>Comedy</td>\n",
       "      <td>comedy, 1995s</td>\n",
       "    </tr>\n",
       "  </tbody>\n",
       "</table>\n",
       "</div>"
      ],
      "text/plain": [
       "   movie_id                         title  \\\n",
       "0         1                    Toy Story    \n",
       "1         2                      Jumanji    \n",
       "2         3             Grumpier Old Men    \n",
       "3         4            Waiting to Exhale    \n",
       "4         5  Father of the Bride Part II    \n",
       "\n",
       "                                         genre  \\\n",
       "0  Adventure|Animation|Children|Comedy|Fantasy   \n",
       "1                   Adventure|Children|Fantasy   \n",
       "2                               Comedy|Romance   \n",
       "3                         Comedy|Drama|Romance   \n",
       "4                                       Comedy   \n",
       "\n",
       "                                             related  \n",
       "0  adventure,animation,children,comedy,fantasy, 1...  \n",
       "1                  adventure,children,fantasy, 1995s  \n",
       "2                              comedy,romance, 1995s  \n",
       "3                        comedy,drama,romance, 1995s  \n",
       "4                                      comedy, 1995s  "
      ]
     },
     "execution_count": 43,
     "metadata": {},
     "output_type": "execute_result"
    }
   ],
   "source": [
    "#Menghapus tahun pada judul film kemudian menambahkan tahun ke kolom related\n",
    "for i in range(df_movies.shape[0]):\n",
    "    year = re.search(r' \\((\\d{4})\\)', df_movies['title'][i])\n",
    "    if year:\n",
    "        year = re.sub(r'([()])','', year.group(0))\n",
    "        df_movies['title'][i] = re.sub(r'\\((\\d{4})\\)', '', df_movies['title'][i])\n",
    "        df_movies['related'][i].append(year+'s')\n",
    "    df_movies['related'][i] = ','.join(df_movies['related'][i])\n",
    "df_movies.head()"
   ]
  },
  {
   "cell_type": "code",
   "execution_count": 44,
   "metadata": {
    "id": "xDhfGiQvQ4Br"
   },
   "outputs": [],
   "source": [
    "#mengekstrak nama sebagai tag pada related\n",
    "df_movies['titles'] = df_movies['title'].map(lambda x: x.lower().split(' '))\n",
    "df_movies['titles'] = df_movies['titles'].map(lambda x: ','.join(set(x)))"
   ]
  },
  {
   "cell_type": "code",
   "execution_count": 45,
   "metadata": {
    "colab": {
     "base_uri": "https://localhost:8080/",
     "height": 406
    },
    "executionInfo": {
     "elapsed": 1735,
     "status": "ok",
     "timestamp": 1597046574704,
     "user": {
      "displayName": "Beladina Elfitri",
      "photoUrl": "https://lh3.googleusercontent.com/a-/AOh14GjVpaLeXl60I8TZeeKTv6wEVjZ-g6mVuxbOF-vwvQ=s64",
      "userId": "01535285485924194811"
     },
     "user_tz": -420
    },
    "id": "t952Caj8Q68I",
    "outputId": "2c02d0e8-da6a-4edb-a31d-6e4fb42043f8"
   },
   "outputs": [
    {
     "data": {
      "text/html": [
       "<div>\n",
       "<style scoped>\n",
       "    .dataframe tbody tr th:only-of-type {\n",
       "        vertical-align: middle;\n",
       "    }\n",
       "\n",
       "    .dataframe tbody tr th {\n",
       "        vertical-align: top;\n",
       "    }\n",
       "\n",
       "    .dataframe thead th {\n",
       "        text-align: right;\n",
       "    }\n",
       "</style>\n",
       "<table border=\"1\" class=\"dataframe\">\n",
       "  <thead>\n",
       "    <tr style=\"text-align: right;\">\n",
       "      <th></th>\n",
       "      <th>movie_id</th>\n",
       "      <th>title</th>\n",
       "      <th>related</th>\n",
       "    </tr>\n",
       "  </thead>\n",
       "  <tbody>\n",
       "    <tr>\n",
       "      <th>0</th>\n",
       "      <td>1</td>\n",
       "      <td>Toy Story</td>\n",
       "      <td>adventure,animation,children,comedy,fantasy, 1...</td>\n",
       "    </tr>\n",
       "    <tr>\n",
       "      <th>1</th>\n",
       "      <td>2</td>\n",
       "      <td>Jumanji</td>\n",
       "      <td>adventure,children,fantasy, 1995sjumanji,</td>\n",
       "    </tr>\n",
       "    <tr>\n",
       "      <th>2</th>\n",
       "      <td>3</td>\n",
       "      <td>Grumpier Old Men</td>\n",
       "      <td>comedy,romance, 1995s,grumpier,men,old</td>\n",
       "    </tr>\n",
       "    <tr>\n",
       "      <th>3</th>\n",
       "      <td>4</td>\n",
       "      <td>Waiting to Exhale</td>\n",
       "      <td>comedy,drama,romance, 1995swaiting,,to,exhale</td>\n",
       "    </tr>\n",
       "    <tr>\n",
       "      <th>4</th>\n",
       "      <td>5</td>\n",
       "      <td>Father of the Bride Part II</td>\n",
       "      <td>comedy, 1995s,ii,part,father,the,bride,of</td>\n",
       "    </tr>\n",
       "    <tr>\n",
       "      <th>...</th>\n",
       "      <td>...</td>\n",
       "      <td>...</td>\n",
       "      <td>...</td>\n",
       "    </tr>\n",
       "    <tr>\n",
       "      <th>9737</th>\n",
       "      <td>193581</td>\n",
       "      <td>Black Butler: Book of the Atlantic</td>\n",
       "      <td>action,animation,comedy,fantasy, 2017s,book,at...</td>\n",
       "    </tr>\n",
       "    <tr>\n",
       "      <th>9738</th>\n",
       "      <td>193583</td>\n",
       "      <td>No Game No Life: Zero</td>\n",
       "      <td>animation,comedy,fantasy, 2017s,life:,game,no,...</td>\n",
       "    </tr>\n",
       "    <tr>\n",
       "      <th>9739</th>\n",
       "      <td>193585</td>\n",
       "      <td>Flint</td>\n",
       "      <td>drama, 2017s,flint</td>\n",
       "    </tr>\n",
       "    <tr>\n",
       "      <th>9740</th>\n",
       "      <td>193587</td>\n",
       "      <td>Bungo Stray Dogs: Dead Apple</td>\n",
       "      <td>action,animation, 2018sbungo,,apple,dead,dogs:...</td>\n",
       "    </tr>\n",
       "    <tr>\n",
       "      <th>9741</th>\n",
       "      <td>193609</td>\n",
       "      <td>Andrew Dice Clay: Dice Rules</td>\n",
       "      <td>comedy, 1991s,rules,clay:,dice,andrew</td>\n",
       "    </tr>\n",
       "  </tbody>\n",
       "</table>\n",
       "<p>9742 rows × 3 columns</p>\n",
       "</div>"
      ],
      "text/plain": [
       "      movie_id                                title  \\\n",
       "0            1                           Toy Story    \n",
       "1            2                             Jumanji    \n",
       "2            3                    Grumpier Old Men    \n",
       "3            4                   Waiting to Exhale    \n",
       "4            5         Father of the Bride Part II    \n",
       "...        ...                                  ...   \n",
       "9737    193581  Black Butler: Book of the Atlantic    \n",
       "9738    193583               No Game No Life: Zero    \n",
       "9739    193585                               Flint    \n",
       "9740    193587        Bungo Stray Dogs: Dead Apple    \n",
       "9741    193609        Andrew Dice Clay: Dice Rules    \n",
       "\n",
       "                                                related  \n",
       "0     adventure,animation,children,comedy,fantasy, 1...  \n",
       "1             adventure,children,fantasy, 1995sjumanji,  \n",
       "2                comedy,romance, 1995s,grumpier,men,old  \n",
       "3         comedy,drama,romance, 1995swaiting,,to,exhale  \n",
       "4             comedy, 1995s,ii,part,father,the,bride,of  \n",
       "...                                                 ...  \n",
       "9737  action,animation,comedy,fantasy, 2017s,book,at...  \n",
       "9738  animation,comedy,fantasy, 2017s,life:,game,no,...  \n",
       "9739                                 drama, 2017s,flint  \n",
       "9740  action,animation, 2018sbungo,,apple,dead,dogs:...  \n",
       "9741              comedy, 1991s,rules,clay:,dice,andrew  \n",
       "\n",
       "[9742 rows x 3 columns]"
      ]
     },
     "execution_count": 45,
     "metadata": {},
     "output_type": "execute_result"
    }
   ],
   "source": [
    "df_movies['related'] = df_movies['related'] + df_movies['titles']\n",
    "df_movies.drop(['titles', 'genre'], axis = 1) "
   ]
  },
  {
   "cell_type": "code",
   "execution_count": 48,
   "metadata": {
    "id": "s1Dq-azbz4Jz"
   },
   "outputs": [],
   "source": [
    "header = ['user_id', 'movie_idt', 'tags', 'timestamp']\n",
    "df_tags = pd.read_csv('tags.csv', sep=',', names =header, skiprows=1)"
   ]
  },
  {
   "cell_type": "code",
   "execution_count": 49,
   "metadata": {
    "colab": {
     "base_uri": "https://localhost:8080/",
     "height": 406
    },
    "executionInfo": {
     "elapsed": 2567,
     "status": "ok",
     "timestamp": 1597046584641,
     "user": {
      "displayName": "Beladina Elfitri",
      "photoUrl": "https://lh3.googleusercontent.com/a-/AOh14GjVpaLeXl60I8TZeeKTv6wEVjZ-g6mVuxbOF-vwvQ=s64",
      "userId": "01535285485924194811"
     },
     "user_tz": -420
    },
    "id": "RT6o_VmZz6bD",
    "outputId": "8925879d-a31d-4730-a705-776855279307"
   },
   "outputs": [
    {
     "name": "stderr",
     "output_type": "stream",
     "text": [
      "C:\\Users\\asepm\\anaconda3\\lib\\site-packages\\pandas\\core\\groupby\\generic.py:303: FutureWarning: Dropping invalid columns in SeriesGroupBy.agg is deprecated. In a future version, a TypeError will be raised. Before calling .agg, select only columns which should be valid for the aggregating function.\n",
      "  results[key] = self.aggregate(func)\n"
     ]
    },
    {
     "data": {
      "text/html": [
       "<div>\n",
       "<style scoped>\n",
       "    .dataframe tbody tr th:only-of-type {\n",
       "        vertical-align: middle;\n",
       "    }\n",
       "\n",
       "    .dataframe tbody tr th {\n",
       "        vertical-align: top;\n",
       "    }\n",
       "\n",
       "    .dataframe thead th {\n",
       "        text-align: right;\n",
       "    }\n",
       "</style>\n",
       "<table border=\"1\" class=\"dataframe\">\n",
       "  <thead>\n",
       "    <tr style=\"text-align: right;\">\n",
       "      <th></th>\n",
       "      <th>movie_idt</th>\n",
       "      <th>tags</th>\n",
       "    </tr>\n",
       "  </thead>\n",
       "  <tbody>\n",
       "    <tr>\n",
       "      <th>0</th>\n",
       "      <td>1</td>\n",
       "      <td>fun,pixar</td>\n",
       "    </tr>\n",
       "    <tr>\n",
       "      <th>1</th>\n",
       "      <td>2</td>\n",
       "      <td>fantasy,magic board game,game,Robin Williams</td>\n",
       "    </tr>\n",
       "    <tr>\n",
       "      <th>2</th>\n",
       "      <td>3</td>\n",
       "      <td>moldy,old</td>\n",
       "    </tr>\n",
       "    <tr>\n",
       "      <th>3</th>\n",
       "      <td>5</td>\n",
       "      <td>pregnancy,remake</td>\n",
       "    </tr>\n",
       "    <tr>\n",
       "      <th>4</th>\n",
       "      <td>7</td>\n",
       "      <td>remake</td>\n",
       "    </tr>\n",
       "    <tr>\n",
       "      <th>...</th>\n",
       "      <td>...</td>\n",
       "      <td>...</td>\n",
       "    </tr>\n",
       "    <tr>\n",
       "      <th>1567</th>\n",
       "      <td>183611</td>\n",
       "      <td>Rachel McAdams,funny,Comedy</td>\n",
       "    </tr>\n",
       "    <tr>\n",
       "      <th>1568</th>\n",
       "      <td>184471</td>\n",
       "      <td>adventure,Alicia Vikander,video game adaptation</td>\n",
       "    </tr>\n",
       "    <tr>\n",
       "      <th>1569</th>\n",
       "      <td>187593</td>\n",
       "      <td>Ryan Reynolds,Josh Brolin,sarcasm</td>\n",
       "    </tr>\n",
       "    <tr>\n",
       "      <th>1570</th>\n",
       "      <td>187595</td>\n",
       "      <td>star wars,Emilia Clarke</td>\n",
       "    </tr>\n",
       "    <tr>\n",
       "      <th>1571</th>\n",
       "      <td>193565</td>\n",
       "      <td>comedy,gintama,anime,remaster</td>\n",
       "    </tr>\n",
       "  </tbody>\n",
       "</table>\n",
       "<p>1572 rows × 2 columns</p>\n",
       "</div>"
      ],
      "text/plain": [
       "      movie_idt                                             tags\n",
       "0             1                                        fun,pixar\n",
       "1             2     fantasy,magic board game,game,Robin Williams\n",
       "2             3                                        moldy,old\n",
       "3             5                                 pregnancy,remake\n",
       "4             7                                           remake\n",
       "...         ...                                              ...\n",
       "1567     183611                      Rachel McAdams,funny,Comedy\n",
       "1568     184471  adventure,Alicia Vikander,video game adaptation\n",
       "1569     187593                Ryan Reynolds,Josh Brolin,sarcasm\n",
       "1570     187595                          star wars,Emilia Clarke\n",
       "1571     193565                    comedy,gintama,anime,remaster\n",
       "\n",
       "[1572 rows x 2 columns]"
      ]
     },
     "execution_count": 49,
     "metadata": {},
     "output_type": "execute_result"
    }
   ],
   "source": [
    "#Menggrupkan berdasarkan film kemudian tags yang ada pada film tersebut digabungkan\n",
    "df_tags = df_tags.groupby(['movie_idt']).agg(lambda x: ','.join(set(x))).reset_index()\n",
    "df_tags"
   ]
  },
  {
   "cell_type": "code",
   "execution_count": 50,
   "metadata": {
    "colab": {
     "base_uri": "https://localhost:8080/",
     "height": 197
    },
    "executionInfo": {
     "elapsed": 2581,
     "status": "ok",
     "timestamp": 1597046588524,
     "user": {
      "displayName": "Beladina Elfitri",
      "photoUrl": "https://lh3.googleusercontent.com/a-/AOh14GjVpaLeXl60I8TZeeKTv6wEVjZ-g6mVuxbOF-vwvQ=s64",
      "userId": "01535285485924194811"
     },
     "user_tz": -420
    },
    "id": "BuZAXSRhz8Hh",
    "outputId": "5aca361b-b666-43c5-9a1b-29ac04fb442a"
   },
   "outputs": [
    {
     "data": {
      "text/html": [
       "<div>\n",
       "<style scoped>\n",
       "    .dataframe tbody tr th:only-of-type {\n",
       "        vertical-align: middle;\n",
       "    }\n",
       "\n",
       "    .dataframe tbody tr th {\n",
       "        vertical-align: top;\n",
       "    }\n",
       "\n",
       "    .dataframe thead th {\n",
       "        text-align: right;\n",
       "    }\n",
       "</style>\n",
       "<table border=\"1\" class=\"dataframe\">\n",
       "  <thead>\n",
       "    <tr style=\"text-align: right;\">\n",
       "      <th></th>\n",
       "      <th>movie_idt</th>\n",
       "      <th>tags</th>\n",
       "    </tr>\n",
       "  </thead>\n",
       "  <tbody>\n",
       "    <tr>\n",
       "      <th>0</th>\n",
       "      <td>1</td>\n",
       "      <td>fun,pixar</td>\n",
       "    </tr>\n",
       "    <tr>\n",
       "      <th>1</th>\n",
       "      <td>2</td>\n",
       "      <td>board,williams,fantasy,magic,game,game,robin</td>\n",
       "    </tr>\n",
       "    <tr>\n",
       "      <th>2</th>\n",
       "      <td>3</td>\n",
       "      <td>moldy,old</td>\n",
       "    </tr>\n",
       "    <tr>\n",
       "      <th>3</th>\n",
       "      <td>5</td>\n",
       "      <td>pregnancy,remake</td>\n",
       "    </tr>\n",
       "    <tr>\n",
       "      <th>4</th>\n",
       "      <td>7</td>\n",
       "      <td>remake</td>\n",
       "    </tr>\n",
       "  </tbody>\n",
       "</table>\n",
       "</div>"
      ],
      "text/plain": [
       "   movie_idt                                          tags\n",
       "0          1                                     fun,pixar\n",
       "1          2  board,williams,fantasy,magic,game,game,robin\n",
       "2          3                                     moldy,old\n",
       "3          5                              pregnancy,remake\n",
       "4          7                                        remake"
      ]
     },
     "execution_count": 50,
     "metadata": {},
     "output_type": "execute_result"
    }
   ],
   "source": [
    "#praprosessing tag\n",
    "df_tags['tags'] = df_tags['tags'].map(lambda x: x.lower().split(' '))\n",
    "df_tags['tags'] = df_tags['tags'].map(lambda x: ','.join(set(x)))\n",
    "df_tags.head()"
   ]
  },
  {
   "cell_type": "markdown",
   "metadata": {
    "id": "7uHEWFBFZSOi"
   },
   "source": [
    "### Menggabungkan data menjadi satu kolom"
   ]
  },
  {
   "cell_type": "code",
   "execution_count": 51,
   "metadata": {
    "colab": {
     "base_uri": "https://localhost:8080/",
     "height": 406
    },
    "executionInfo": {
     "elapsed": 2123,
     "status": "ok",
     "timestamp": 1597046611572,
     "user": {
      "displayName": "Beladina Elfitri",
      "photoUrl": "https://lh3.googleusercontent.com/a-/AOh14GjVpaLeXl60I8TZeeKTv6wEVjZ-g6mVuxbOF-vwvQ=s64",
      "userId": "01535285485924194811"
     },
     "user_tz": -420
    },
    "id": "SQreJscpz9tI",
    "outputId": "5114dcac-0627-48bd-d4c5-eb9182e07a32"
   },
   "outputs": [
    {
     "data": {
      "text/html": [
       "<div>\n",
       "<style scoped>\n",
       "    .dataframe tbody tr th:only-of-type {\n",
       "        vertical-align: middle;\n",
       "    }\n",
       "\n",
       "    .dataframe tbody tr th {\n",
       "        vertical-align: top;\n",
       "    }\n",
       "\n",
       "    .dataframe thead th {\n",
       "        text-align: right;\n",
       "    }\n",
       "</style>\n",
       "<table border=\"1\" class=\"dataframe\">\n",
       "  <thead>\n",
       "    <tr style=\"text-align: right;\">\n",
       "      <th></th>\n",
       "      <th>movie_idt</th>\n",
       "      <th>tags</th>\n",
       "      <th>movie_id</th>\n",
       "      <th>title</th>\n",
       "      <th>genre</th>\n",
       "      <th>related</th>\n",
       "      <th>titles</th>\n",
       "    </tr>\n",
       "  </thead>\n",
       "  <tbody>\n",
       "    <tr>\n",
       "      <th>0</th>\n",
       "      <td>1.0</td>\n",
       "      <td>fun,pixar</td>\n",
       "      <td>1</td>\n",
       "      <td>Toy Story</td>\n",
       "      <td>Adventure|Animation|Children|Comedy|Fantasy</td>\n",
       "      <td>adventure,animation,children,comedy,fantasy, 1...</td>\n",
       "      <td>toy,,story</td>\n",
       "    </tr>\n",
       "    <tr>\n",
       "      <th>1</th>\n",
       "      <td>2.0</td>\n",
       "      <td>board,williams,fantasy,magic,game,game,robin</td>\n",
       "      <td>2</td>\n",
       "      <td>Jumanji</td>\n",
       "      <td>Adventure|Children|Fantasy</td>\n",
       "      <td>adventure,children,fantasy, 1995sjumanji,,boar...</td>\n",
       "      <td>jumanji,</td>\n",
       "    </tr>\n",
       "    <tr>\n",
       "      <th>2</th>\n",
       "      <td>3.0</td>\n",
       "      <td>moldy,old</td>\n",
       "      <td>3</td>\n",
       "      <td>Grumpier Old Men</td>\n",
       "      <td>Comedy|Romance</td>\n",
       "      <td>comedy,romance, 1995s,grumpier,men,old,moldy,old</td>\n",
       "      <td>,grumpier,men,old</td>\n",
       "    </tr>\n",
       "    <tr>\n",
       "      <th>3</th>\n",
       "      <td>5.0</td>\n",
       "      <td>pregnancy,remake</td>\n",
       "      <td>4</td>\n",
       "      <td>Waiting to Exhale</td>\n",
       "      <td>Comedy|Drama|Romance</td>\n",
       "      <td>comedy,drama,romance, 1995swaiting,,to,exhale,...</td>\n",
       "      <td>waiting,,to,exhale</td>\n",
       "    </tr>\n",
       "    <tr>\n",
       "      <th>4</th>\n",
       "      <td>7.0</td>\n",
       "      <td>remake</td>\n",
       "      <td>5</td>\n",
       "      <td>Father of the Bride Part II</td>\n",
       "      <td>Comedy</td>\n",
       "      <td>comedy, 1995s,ii,part,father,the,bride,of,remake</td>\n",
       "      <td>,ii,part,father,the,bride,of</td>\n",
       "    </tr>\n",
       "    <tr>\n",
       "      <th>...</th>\n",
       "      <td>...</td>\n",
       "      <td>...</td>\n",
       "      <td>...</td>\n",
       "      <td>...</td>\n",
       "      <td>...</td>\n",
       "      <td>...</td>\n",
       "      <td>...</td>\n",
       "    </tr>\n",
       "    <tr>\n",
       "      <th>9737</th>\n",
       "      <td></td>\n",
       "      <td></td>\n",
       "      <td>193581</td>\n",
       "      <td>Black Butler: Book of the Atlantic</td>\n",
       "      <td>Action|Animation|Comedy|Fantasy</td>\n",
       "      <td>action,animation,comedy,fantasy, 2017s,book,at...</td>\n",
       "      <td>,book,atlantic,the,butler:,of,black</td>\n",
       "    </tr>\n",
       "    <tr>\n",
       "      <th>9738</th>\n",
       "      <td></td>\n",
       "      <td></td>\n",
       "      <td>193583</td>\n",
       "      <td>No Game No Life: Zero</td>\n",
       "      <td>Animation|Comedy|Fantasy</td>\n",
       "      <td>animation,comedy,fantasy, 2017s,life:,game,no,...</td>\n",
       "      <td>,life:,game,no,zero</td>\n",
       "    </tr>\n",
       "    <tr>\n",
       "      <th>9739</th>\n",
       "      <td></td>\n",
       "      <td></td>\n",
       "      <td>193585</td>\n",
       "      <td>Flint</td>\n",
       "      <td>Drama</td>\n",
       "      <td>drama, 2017s,flint,</td>\n",
       "      <td>,flint</td>\n",
       "    </tr>\n",
       "    <tr>\n",
       "      <th>9740</th>\n",
       "      <td></td>\n",
       "      <td></td>\n",
       "      <td>193587</td>\n",
       "      <td>Bungo Stray Dogs: Dead Apple</td>\n",
       "      <td>Action|Animation</td>\n",
       "      <td>action,animation, 2018sbungo,,apple,dead,dogs:...</td>\n",
       "      <td>bungo,,apple,dead,dogs:,stray</td>\n",
       "    </tr>\n",
       "    <tr>\n",
       "      <th>9741</th>\n",
       "      <td></td>\n",
       "      <td></td>\n",
       "      <td>193609</td>\n",
       "      <td>Andrew Dice Clay: Dice Rules</td>\n",
       "      <td>Comedy</td>\n",
       "      <td>comedy, 1991s,rules,clay:,dice,andrew,</td>\n",
       "      <td>,rules,clay:,dice,andrew</td>\n",
       "    </tr>\n",
       "  </tbody>\n",
       "</table>\n",
       "<p>9742 rows × 7 columns</p>\n",
       "</div>"
      ],
      "text/plain": [
       "     movie_idt                                          tags  movie_id  \\\n",
       "0          1.0                                     fun,pixar         1   \n",
       "1          2.0  board,williams,fantasy,magic,game,game,robin         2   \n",
       "2          3.0                                     moldy,old         3   \n",
       "3          5.0                              pregnancy,remake         4   \n",
       "4          7.0                                        remake         5   \n",
       "...        ...                                           ...       ...   \n",
       "9737                                                            193581   \n",
       "9738                                                            193583   \n",
       "9739                                                            193585   \n",
       "9740                                                            193587   \n",
       "9741                                                            193609   \n",
       "\n",
       "                                    title  \\\n",
       "0                              Toy Story    \n",
       "1                                Jumanji    \n",
       "2                       Grumpier Old Men    \n",
       "3                      Waiting to Exhale    \n",
       "4            Father of the Bride Part II    \n",
       "...                                   ...   \n",
       "9737  Black Butler: Book of the Atlantic    \n",
       "9738               No Game No Life: Zero    \n",
       "9739                               Flint    \n",
       "9740        Bungo Stray Dogs: Dead Apple    \n",
       "9741        Andrew Dice Clay: Dice Rules    \n",
       "\n",
       "                                            genre  \\\n",
       "0     Adventure|Animation|Children|Comedy|Fantasy   \n",
       "1                      Adventure|Children|Fantasy   \n",
       "2                                  Comedy|Romance   \n",
       "3                            Comedy|Drama|Romance   \n",
       "4                                          Comedy   \n",
       "...                                           ...   \n",
       "9737              Action|Animation|Comedy|Fantasy   \n",
       "9738                     Animation|Comedy|Fantasy   \n",
       "9739                                        Drama   \n",
       "9740                             Action|Animation   \n",
       "9741                                       Comedy   \n",
       "\n",
       "                                                related  \\\n",
       "0     adventure,animation,children,comedy,fantasy, 1...   \n",
       "1     adventure,children,fantasy, 1995sjumanji,,boar...   \n",
       "2      comedy,romance, 1995s,grumpier,men,old,moldy,old   \n",
       "3     comedy,drama,romance, 1995swaiting,,to,exhale,...   \n",
       "4      comedy, 1995s,ii,part,father,the,bride,of,remake   \n",
       "...                                                 ...   \n",
       "9737  action,animation,comedy,fantasy, 2017s,book,at...   \n",
       "9738  animation,comedy,fantasy, 2017s,life:,game,no,...   \n",
       "9739                                drama, 2017s,flint,   \n",
       "9740  action,animation, 2018sbungo,,apple,dead,dogs:...   \n",
       "9741             comedy, 1991s,rules,clay:,dice,andrew,   \n",
       "\n",
       "                                   titles  \n",
       "0                              toy,,story  \n",
       "1                                jumanji,  \n",
       "2                       ,grumpier,men,old  \n",
       "3                      waiting,,to,exhale  \n",
       "4            ,ii,part,father,the,bride,of  \n",
       "...                                   ...  \n",
       "9737  ,book,atlantic,the,butler:,of,black  \n",
       "9738                  ,life:,game,no,zero  \n",
       "9739                               ,flint  \n",
       "9740        bungo,,apple,dead,dogs:,stray  \n",
       "9741             ,rules,clay:,dice,andrew  \n",
       "\n",
       "[9742 rows x 7 columns]"
      ]
     },
     "execution_count": 51,
     "metadata": {},
     "output_type": "execute_result"
    }
   ],
   "source": [
    "#menggabungkan genre dan tags untuk setiap film\n",
    "df_cbf = pd.concat([df_tags, df_movies], axis=1, sort=False)\n",
    "df_cbff = df_cbf\n",
    "df_cbf = df_cbf.replace(np.nan, '', regex=True)\n",
    "df_cbf['related'] = df_cbf['related'] +','+ df_cbf['tags']\n",
    "df_cbf"
   ]
  },
  {
   "cell_type": "markdown",
   "metadata": {
    "id": "5v7OKfWtZWF3"
   },
   "source": [
    "### TF-IDF"
   ]
  },
  {
   "cell_type": "code",
   "execution_count": 52,
   "metadata": {
    "id": "xmS7vpg-jCI4",
    "outputId": "2e65728e-3dfb-415a-85ce-dac5c83e4f82"
   },
   "outputs": [
    {
     "data": {
      "text/plain": [
       "0       adventure,animation,children,comedy,fantasy, 1...\n",
       "1       adventure,children,fantasy, 1995sjumanji,,boar...\n",
       "2        comedy,romance, 1995s,grumpier,men,old,moldy,old\n",
       "3       comedy,drama,romance, 1995swaiting,,to,exhale,...\n",
       "4        comedy, 1995s,ii,part,father,the,bride,of,remake\n",
       "                              ...                        \n",
       "9737    action,animation,comedy,fantasy, 2017s,book,at...\n",
       "9738    animation,comedy,fantasy, 2017s,life:,game,no,...\n",
       "9739                                  drama, 2017s,flint,\n",
       "9740    action,animation, 2018sbungo,,apple,dead,dogs:...\n",
       "9741               comedy, 1991s,rules,clay:,dice,andrew,\n",
       "Name: related, Length: 9742, dtype: object"
      ]
     },
     "execution_count": 52,
     "metadata": {},
     "output_type": "execute_result"
    }
   ],
   "source": [
    "df_cbf['related']"
   ]
  },
  {
   "cell_type": "markdown",
   "metadata": {
    "id": "eKehcay5jCI5"
   },
   "source": [
    "<img src = 'https://cdn-media-1.freecodecamp.org/images/1*q3qYevXqQOjJf6Pwdlx8Mw.png'>"
   ]
  },
  {
   "cell_type": "code",
   "execution_count": 53,
   "metadata": {
    "id": "I5ElPxl3z_Yj"
   },
   "outputs": [],
   "source": [
    "#tf-idf untuk kolom related\n",
    "tf = TfidfVectorizer(analyzer='word')\n",
    "tfidf_matrix = tf.fit_transform(df_cbf['related'])"
   ]
  },
  {
   "cell_type": "code",
   "execution_count": 54,
   "metadata": {
    "id": "9-VMPvgQjCI5",
    "outputId": "d2f3e2a2-2188-49b4-af39-e6656097d511"
   },
   "outputs": [
    {
     "data": {
      "text/plain": [
       "<9742x11311 sparse matrix of type '<class 'numpy.float64'>'\n",
       "\twith 66380 stored elements in Compressed Sparse Row format>"
      ]
     },
     "execution_count": 54,
     "metadata": {},
     "output_type": "execute_result"
    }
   ],
   "source": [
    "tfidf_matrix"
   ]
  },
  {
   "cell_type": "markdown",
   "metadata": {
    "id": "2JpaUpVRZb9b"
   },
   "source": [
    "### Cosine Similarity"
   ]
  },
  {
   "cell_type": "code",
   "execution_count": 55,
   "metadata": {
    "colab": {
     "base_uri": "https://localhost:8080/",
     "height": 247
    },
    "executionInfo": {
     "elapsed": 3563,
     "status": "ok",
     "timestamp": 1597046660392,
     "user": {
      "displayName": "Beladina Elfitri",
      "photoUrl": "https://lh3.googleusercontent.com/a-/AOh14GjVpaLeXl60I8TZeeKTv6wEVjZ-g6mVuxbOF-vwvQ=s64",
      "userId": "01535285485924194811"
     },
     "user_tz": -420
    },
    "id": "ZvANwnqNZaxo",
    "outputId": "8ec1133d-2a85-40a7-cfcb-60a732a5090b"
   },
   "outputs": [
    {
     "data": {
      "text/plain": [
       "array([[1.        , 0.10892624, 0.00991964, ..., 0.        , 0.04238822,\n",
       "        0.011425  ],\n",
       "       [0.10892624, 1.        , 0.        , ..., 0.        , 0.        ,\n",
       "        0.        ],\n",
       "       [0.00991964, 0.        , 1.        , ..., 0.        , 0.        ,\n",
       "        0.00934358],\n",
       "       ...,\n",
       "       [0.        , 0.        , 0.        , ..., 1.        , 0.        ,\n",
       "        0.        ],\n",
       "       [0.04238822, 0.        , 0.        , ..., 0.        , 1.        ,\n",
       "        0.        ],\n",
       "       [0.011425  , 0.        , 0.00934358, ..., 0.        , 0.        ,\n",
       "        1.        ]])"
      ]
     },
     "execution_count": 55,
     "metadata": {},
     "output_type": "execute_result"
    }
   ],
   "source": [
    "#cosine similarity antara film-film\n",
    "cos_sim_cbf = cosine_similarity(tfidf_matrix, tfidf_matrix)\n",
    "cos_sim_cbf"
   ]
  },
  {
   "cell_type": "markdown",
   "metadata": {
    "id": "NBcCLYDsZnAm"
   },
   "source": [
    "### Recommendation process"
   ]
  },
  {
   "cell_type": "code",
   "execution_count": 56,
   "metadata": {
    "id": "x0StgrDZ0Bfo"
   },
   "outputs": [],
   "source": [
    "# fungsi membuat rekomendasi berdasarkan judul film. Fungsi ini akan mencari film yang memiliki kemiripan dengan judul film dan mengembalikan film recommended\n",
    "def recommendations(title, cosine_sim = cos_sim_cbf):\n",
    "    \n",
    "    recommended_movies = []\n",
    "    # idx untuk mendapatkan index film yang sama dengan judul\n",
    "    idx = indices[indices == title].index[0]\n",
    "\n",
    "    # cosine similarity terurut secara descending\n",
    "    score_series = pd.Series(cosine_sim[idx]).sort_values(ascending = False)\n",
    "\n",
    "    # index film secara terurut\n",
    "    top_rec = list(score_series.iloc[1:].index)\n",
    "\n",
    "    # judul film yang direkomendasikan\n",
    "    for i in top_rec:\n",
    "        recommended_movies.append(list(df_cbf.index)[i])\n",
    "        \n",
    "    return recommended_movies"
   ]
  },
  {
   "cell_type": "code",
   "execution_count": 57,
   "metadata": {
    "colab": {
     "base_uri": "https://localhost:8080/",
     "height": 227
    },
    "executionInfo": {
     "elapsed": 1857,
     "status": "ok",
     "timestamp": 1597046671921,
     "user": {
      "displayName": "Beladina Elfitri",
      "photoUrl": "https://lh3.googleusercontent.com/a-/AOh14GjVpaLeXl60I8TZeeKTv6wEVjZ-g6mVuxbOF-vwvQ=s64",
      "userId": "01535285485924194811"
     },
     "user_tz": -420
    },
    "id": "n7lQx3QI0EZb",
    "outputId": "8ff148ce-bc0b-4e55-e709-b57c4eb62ed5"
   },
   "outputs": [
    {
     "data": {
      "text/html": [
       "<div>\n",
       "<style scoped>\n",
       "    .dataframe tbody tr th:only-of-type {\n",
       "        vertical-align: middle;\n",
       "    }\n",
       "\n",
       "    .dataframe tbody tr th {\n",
       "        vertical-align: top;\n",
       "    }\n",
       "\n",
       "    .dataframe thead th {\n",
       "        text-align: right;\n",
       "    }\n",
       "</style>\n",
       "<table border=\"1\" class=\"dataframe\">\n",
       "  <thead>\n",
       "    <tr style=\"text-align: right;\">\n",
       "      <th></th>\n",
       "      <th>movie_idt</th>\n",
       "      <th>tags</th>\n",
       "      <th>movie_id</th>\n",
       "      <th>genre</th>\n",
       "      <th>related</th>\n",
       "      <th>titles</th>\n",
       "    </tr>\n",
       "    <tr>\n",
       "      <th>title</th>\n",
       "      <th></th>\n",
       "      <th></th>\n",
       "      <th></th>\n",
       "      <th></th>\n",
       "      <th></th>\n",
       "      <th></th>\n",
       "    </tr>\n",
       "  </thead>\n",
       "  <tbody>\n",
       "    <tr>\n",
       "      <th>Toy Story</th>\n",
       "      <td>1.0</td>\n",
       "      <td>fun,pixar</td>\n",
       "      <td>1</td>\n",
       "      <td>Adventure|Animation|Children|Comedy|Fantasy</td>\n",
       "      <td>adventure,animation,children,comedy,fantasy, 1...</td>\n",
       "      <td>toy,,story</td>\n",
       "    </tr>\n",
       "    <tr>\n",
       "      <th>Jumanji</th>\n",
       "      <td>2.0</td>\n",
       "      <td>board,williams,fantasy,magic,game,game,robin</td>\n",
       "      <td>2</td>\n",
       "      <td>Adventure|Children|Fantasy</td>\n",
       "      <td>adventure,children,fantasy, 1995sjumanji,,boar...</td>\n",
       "      <td>jumanji,</td>\n",
       "    </tr>\n",
       "    <tr>\n",
       "      <th>Grumpier Old Men</th>\n",
       "      <td>3.0</td>\n",
       "      <td>moldy,old</td>\n",
       "      <td>3</td>\n",
       "      <td>Comedy|Romance</td>\n",
       "      <td>comedy,romance, 1995s,grumpier,men,old,moldy,old</td>\n",
       "      <td>,grumpier,men,old</td>\n",
       "    </tr>\n",
       "    <tr>\n",
       "      <th>Waiting to Exhale</th>\n",
       "      <td>5.0</td>\n",
       "      <td>pregnancy,remake</td>\n",
       "      <td>4</td>\n",
       "      <td>Comedy|Drama|Romance</td>\n",
       "      <td>comedy,drama,romance, 1995swaiting,,to,exhale,...</td>\n",
       "      <td>waiting,,to,exhale</td>\n",
       "    </tr>\n",
       "    <tr>\n",
       "      <th>Father of the Bride Part II</th>\n",
       "      <td>7.0</td>\n",
       "      <td>remake</td>\n",
       "      <td>5</td>\n",
       "      <td>Comedy</td>\n",
       "      <td>comedy, 1995s,ii,part,father,the,bride,of,remake</td>\n",
       "      <td>,ii,part,father,the,bride,of</td>\n",
       "    </tr>\n",
       "  </tbody>\n",
       "</table>\n",
       "</div>"
      ],
      "text/plain": [
       "                             movie_idt  \\\n",
       "title                                    \n",
       "Toy Story                          1.0   \n",
       "Jumanji                            2.0   \n",
       "Grumpier Old Men                   3.0   \n",
       "Waiting to Exhale                  5.0   \n",
       "Father of the Bride Part II        7.0   \n",
       "\n",
       "                                                                      tags  \\\n",
       "title                                                                        \n",
       "Toy Story                                                        fun,pixar   \n",
       "Jumanji                       board,williams,fantasy,magic,game,game,robin   \n",
       "Grumpier Old Men                                                 moldy,old   \n",
       "Waiting to Exhale                                         pregnancy,remake   \n",
       "Father of the Bride Part II                                         remake   \n",
       "\n",
       "                              movie_id  \\\n",
       "title                                    \n",
       "Toy Story                            1   \n",
       "Jumanji                              2   \n",
       "Grumpier Old Men                     3   \n",
       "Waiting to Exhale                    4   \n",
       "Father of the Bride Part II          5   \n",
       "\n",
       "                                                                    genre  \\\n",
       "title                                                                       \n",
       "Toy Story                     Adventure|Animation|Children|Comedy|Fantasy   \n",
       "Jumanji                                        Adventure|Children|Fantasy   \n",
       "Grumpier Old Men                                           Comedy|Romance   \n",
       "Waiting to Exhale                                    Comedy|Drama|Romance   \n",
       "Father of the Bride Part II                                        Comedy   \n",
       "\n",
       "                                                                        related  \\\n",
       "title                                                                             \n",
       "Toy Story                     adventure,animation,children,comedy,fantasy, 1...   \n",
       "Jumanji                       adventure,children,fantasy, 1995sjumanji,,boar...   \n",
       "Grumpier Old Men               comedy,romance, 1995s,grumpier,men,old,moldy,old   \n",
       "Waiting to Exhale             comedy,drama,romance, 1995swaiting,,to,exhale,...   \n",
       "Father of the Bride Part II    comedy, 1995s,ii,part,father,the,bride,of,remake   \n",
       "\n",
       "                                                    titles  \n",
       "title                                                       \n",
       "Toy Story                                       toy,,story  \n",
       "Jumanji                                           jumanji,  \n",
       "Grumpier Old Men                         ,grumpier,men,old  \n",
       "Waiting to Exhale                       waiting,,to,exhale  \n",
       "Father of the Bride Part II   ,ii,part,father,the,bride,of  "
      ]
     },
     "execution_count": 57,
     "metadata": {},
     "output_type": "execute_result"
    }
   ],
   "source": [
    "df_cbf.set_index('title', inplace = True)\n",
    "df_cbf.head()"
   ]
  },
  {
   "cell_type": "code",
   "execution_count": 58,
   "metadata": {
    "colab": {
     "base_uri": "https://localhost:8080/",
     "height": 230
    },
    "executionInfo": {
     "elapsed": 1120,
     "status": "ok",
     "timestamp": 1597046691701,
     "user": {
      "displayName": "Beladina Elfitri",
      "photoUrl": "https://lh3.googleusercontent.com/a-/AOh14GjVpaLeXl60I8TZeeKTv6wEVjZ-g6mVuxbOF-vwvQ=s64",
      "userId": "01535285485924194811"
     },
     "user_tz": -420
    },
    "id": "unyZNHb00F0u",
    "outputId": "744362c8-0185-4134-a981-94298dcfd254"
   },
   "outputs": [
    {
     "data": {
      "text/plain": [
       "0                                Toy Story \n",
       "1                                  Jumanji \n",
       "2                         Grumpier Old Men \n",
       "3                        Waiting to Exhale \n",
       "4              Father of the Bride Part II \n",
       "                       ...                 \n",
       "9737    Black Butler: Book of the Atlantic \n",
       "9738                 No Game No Life: Zero \n",
       "9739                                 Flint \n",
       "9740          Bungo Stray Dogs: Dead Apple \n",
       "9741          Andrew Dice Clay: Dice Rules \n",
       "Name: title, Length: 9742, dtype: object"
      ]
     },
     "execution_count": 58,
     "metadata": {},
     "output_type": "execute_result"
    }
   ],
   "source": [
    "#mendapatkan index setiap film\n",
    "indices = pd.Series(df_cbf.index)\n",
    "indices"
   ]
  },
  {
   "cell_type": "markdown",
   "metadata": {
    "id": "QcEFc7BKZsqn"
   },
   "source": [
    "#### Movie recommendation based on movie-similarity (Content Based Filtering)"
   ]
  },
  {
   "cell_type": "code",
   "execution_count": 59,
   "metadata": {
    "id": "LUPHFJEs0IVE"
   },
   "outputs": [],
   "source": [
    "#Collaborative filtering dengan inputan judul film\n",
    "sim_movies = recommendations('Toy Story ')"
   ]
  },
  {
   "cell_type": "code",
   "execution_count": 60,
   "metadata": {
    "colab": {
     "base_uri": "https://localhost:8080/",
     "height": 372
    },
    "executionInfo": {
     "elapsed": 4644,
     "status": "ok",
     "timestamp": 1597046699613,
     "user": {
      "displayName": "Beladina Elfitri",
      "photoUrl": "https://lh3.googleusercontent.com/a-/AOh14GjVpaLeXl60I8TZeeKTv6wEVjZ-g6mVuxbOF-vwvQ=s64",
      "userId": "01535285485924194811"
     },
     "user_tz": -420
    },
    "id": "DC78Muktw0FA",
    "outputId": "ad95ee66-ca04-4731-f49c-484fe91edd0e"
   },
   "outputs": [
    {
     "data": {
      "text/plain": [
       "['Toy Story 2 ',\n",
       " 'Fun ',\n",
       " 'Toy Story 3 ',\n",
       " 'In Search of the Castaways ',\n",
       " 'Wild, The ',\n",
       " \"We're Back! A Dinosaur's Story \",\n",
       " 'Home ',\n",
       " 'Shrek ',\n",
       " 'Turbo ',\n",
       " 'NeverEnding Story III, The ',\n",
       " 'Antz ',\n",
       " 'Moana ',\n",
       " 'Fun with Dick and Jane ',\n",
       " 'Enchanted ',\n",
       " 'Nelly & Monsieur Arnaud ',\n",
       " 'Robots ',\n",
       " 'Valiant ',\n",
       " 'Inside Out ',\n",
       " 'Goonies, The ',\n",
       " 'A Story of Children and Film ']"
      ]
     },
     "execution_count": 60,
     "metadata": {},
     "output_type": "execute_result"
    }
   ],
   "source": [
    "#20 list film yang mirip dengan judul masukkan\n",
    "sim_movies[:20]"
   ]
  },
  {
   "cell_type": "markdown",
   "metadata": {
    "id": "xZfdV2-SZ2FW"
   },
   "source": [
    "## Hybrid process"
   ]
  },
  {
   "cell_type": "code",
   "execution_count": 61,
   "metadata": {
    "id": "sg_XWVhYzNqw"
   },
   "outputs": [],
   "source": [
    "df_movieforuser = pd.DataFrame(columns=['user','movie_recommendation'])\n",
    "for userid in range(len(train_pred)):\n",
    "    count = 0\n",
    "    movrec_u = []\n",
    "    train_pred_c = train_pred.reshape(9724,610)\n",
    "    for i in range(0,len(sim_movies)):\n",
    "        idx = indices[indices == sim_movies[i]].index[0]\n",
    "        mov_id = df_cbff.loc[idx].movie_id\n",
    "        col_rate = np.where(movierec.columns == mov_id)[0][0]\n",
    "        rate_user_u = train_pred_c[col_rate][userid]\n",
    "        if(rate_user_u > 3):\n",
    "            count+=1\n",
    "            movrec_u.append(mov_id)\n",
    "        if(count >= 20):\n",
    "            break\n",
    "            \n",
    "    mvr = []\n",
    "    for i in range(len(movrec_u)):\n",
    "        mvr.append(df_movies.loc[df_movies.movie_id == movrec_u[i]].title.values[0])\n",
    "    df_movieforuser.loc[userid,'user'] = userid\n",
    "    df_movieforuser.loc[userid, 'movie_recommendation'] = mvr"
   ]
  },
  {
   "cell_type": "code",
   "execution_count": 62,
   "metadata": {
    "colab": {
     "base_uri": "https://localhost:8080/",
     "height": 372
    },
    "executionInfo": {
     "elapsed": 32906,
     "status": "ok",
     "timestamp": 1597046789765,
     "user": {
      "displayName": "Beladina Elfitri",
      "photoUrl": "https://lh3.googleusercontent.com/a-/AOh14GjVpaLeXl60I8TZeeKTv6wEVjZ-g6mVuxbOF-vwvQ=s64",
      "userId": "01535285485924194811"
     },
     "user_tz": -420
    },
    "id": "v5LjoWes1dDC",
    "outputId": "74de34a2-82cb-4c90-b8a5-d86fb05d8c4b"
   },
   "outputs": [
    {
     "data": {
      "text/plain": [
       "['Fun ',\n",
       " 'In Search of the Castaways ',\n",
       " 'Home ',\n",
       " 'Shrek ',\n",
       " 'Turbo ',\n",
       " 'NeverEnding Story III, The ',\n",
       " 'Antz ',\n",
       " 'Moana ',\n",
       " 'Enchanted ',\n",
       " 'Nelly & Monsieur Arnaud ',\n",
       " 'Robots ',\n",
       " 'Inside Out ',\n",
       " 'Goonies, The ',\n",
       " 'A Story of Children and Film ',\n",
       " 'The Good Dinosaur ',\n",
       " 'Up ',\n",
       " 'Monsters, Inc. ',\n",
       " 'Madagascar ',\n",
       " 'Rio 2 ',\n",
       " 'Rio ']"
      ]
     },
     "execution_count": 62,
     "metadata": {},
     "output_type": "execute_result"
    }
   ],
   "source": [
    "df_movieforuser['movie_recommendation'][214]"
   ]
  },
  {
   "cell_type": "code",
   "execution_count": 63,
   "metadata": {
    "colab": {
     "base_uri": "https://localhost:8080/",
     "height": 372
    },
    "executionInfo": {
     "elapsed": 31015,
     "status": "ok",
     "timestamp": 1597046789767,
     "user": {
      "displayName": "Beladina Elfitri",
      "photoUrl": "https://lh3.googleusercontent.com/a-/AOh14GjVpaLeXl60I8TZeeKTv6wEVjZ-g6mVuxbOF-vwvQ=s64",
      "userId": "01535285485924194811"
     },
     "user_tz": -420
    },
    "id": "cPnPfVUwAxnp",
    "outputId": "93705aad-4077-4683-d408-e2f45672523b"
   },
   "outputs": [
    {
     "data": {
      "text/plain": [
       "['Fun ',\n",
       " 'In Search of the Castaways ',\n",
       " \"We're Back! A Dinosaur's Story \",\n",
       " 'Home ',\n",
       " 'Shrek ',\n",
       " 'Antz ',\n",
       " 'Moana ',\n",
       " 'Fun with Dick and Jane ',\n",
       " 'Enchanted ',\n",
       " 'Valiant ',\n",
       " 'Inside Out ',\n",
       " 'Goonies, The ',\n",
       " 'A Story of Children and Film ',\n",
       " 'NeverEnding Story II: The Next Chapter, The ',\n",
       " 'Labyrinth ',\n",
       " 'Up ',\n",
       " 'Monsters, Inc. ',\n",
       " 'G.I. Joe: The Movie ',\n",
       " 'Rio ',\n",
       " 'FairyTale: A True Story ']"
      ]
     },
     "execution_count": 63,
     "metadata": {},
     "output_type": "execute_result"
    }
   ],
   "source": [
    "df_movieforuser['movie_recommendation'][23]"
   ]
  },
  {
   "cell_type": "markdown",
   "metadata": {
    "id": "b4vZKewZaGSu"
   },
   "source": [
    "### Recommendation result"
   ]
  },
  {
   "cell_type": "code",
   "execution_count": 64,
   "metadata": {
    "colab": {
     "base_uri": "https://localhost:8080/",
     "height": 406
    },
    "executionInfo": {
     "elapsed": 2080,
     "status": "ok",
     "timestamp": 1597046805285,
     "user": {
      "displayName": "Beladina Elfitri",
      "photoUrl": "https://lh3.googleusercontent.com/a-/AOh14GjVpaLeXl60I8TZeeKTv6wEVjZ-g6mVuxbOF-vwvQ=s64",
      "userId": "01535285485924194811"
     },
     "user_tz": -420
    },
    "id": "M1sSOUCHEIhM",
    "outputId": "9074af5e-648e-4978-c1de-6f4d80bff96f"
   },
   "outputs": [
    {
     "data": {
      "text/html": [
       "<div>\n",
       "<style scoped>\n",
       "    .dataframe tbody tr th:only-of-type {\n",
       "        vertical-align: middle;\n",
       "    }\n",
       "\n",
       "    .dataframe tbody tr th {\n",
       "        vertical-align: top;\n",
       "    }\n",
       "\n",
       "    .dataframe thead th {\n",
       "        text-align: right;\n",
       "    }\n",
       "</style>\n",
       "<table border=\"1\" class=\"dataframe\">\n",
       "  <thead>\n",
       "    <tr style=\"text-align: right;\">\n",
       "      <th></th>\n",
       "      <th>user</th>\n",
       "      <th>movie_recommendation</th>\n",
       "    </tr>\n",
       "  </thead>\n",
       "  <tbody>\n",
       "    <tr>\n",
       "      <th>0</th>\n",
       "      <td>0</td>\n",
       "      <td>[Toy Story 2 , Fun , In Search of the Castaway...</td>\n",
       "    </tr>\n",
       "    <tr>\n",
       "      <th>1</th>\n",
       "      <td>1</td>\n",
       "      <td>[In Search of the Castaways , Wild, The , We'r...</td>\n",
       "    </tr>\n",
       "    <tr>\n",
       "      <th>2</th>\n",
       "      <td>2</td>\n",
       "      <td>[Toy Story 2 , Fun , In Search of the Castaway...</td>\n",
       "    </tr>\n",
       "    <tr>\n",
       "      <th>3</th>\n",
       "      <td>3</td>\n",
       "      <td>[Toy Story 2 , Fun , In Search of the Castaway...</td>\n",
       "    </tr>\n",
       "    <tr>\n",
       "      <th>4</th>\n",
       "      <td>4</td>\n",
       "      <td>[Toy Story 2 , In Search of the Castaways , Wi...</td>\n",
       "    </tr>\n",
       "    <tr>\n",
       "      <th>...</th>\n",
       "      <td>...</td>\n",
       "      <td>...</td>\n",
       "    </tr>\n",
       "    <tr>\n",
       "      <th>605</th>\n",
       "      <td>605</td>\n",
       "      <td>[Toy Story 2 , Fun , In Search of the Castaway...</td>\n",
       "    </tr>\n",
       "    <tr>\n",
       "      <th>606</th>\n",
       "      <td>606</td>\n",
       "      <td>[Toy Story 2 , Fun , In Search of the Castaway...</td>\n",
       "    </tr>\n",
       "    <tr>\n",
       "      <th>607</th>\n",
       "      <td>607</td>\n",
       "      <td>[Toy Story 2 , Fun , In Search of the Castaway...</td>\n",
       "    </tr>\n",
       "    <tr>\n",
       "      <th>608</th>\n",
       "      <td>608</td>\n",
       "      <td>[Toy Story 2 , In Search of the Castaways , Sh...</td>\n",
       "    </tr>\n",
       "    <tr>\n",
       "      <th>609</th>\n",
       "      <td>609</td>\n",
       "      <td>[Fun , In Search of the Castaways , Wild, The ...</td>\n",
       "    </tr>\n",
       "  </tbody>\n",
       "</table>\n",
       "<p>610 rows × 2 columns</p>\n",
       "</div>"
      ],
      "text/plain": [
       "    user                               movie_recommendation\n",
       "0      0  [Toy Story 2 , Fun , In Search of the Castaway...\n",
       "1      1  [In Search of the Castaways , Wild, The , We'r...\n",
       "2      2  [Toy Story 2 , Fun , In Search of the Castaway...\n",
       "3      3  [Toy Story 2 , Fun , In Search of the Castaway...\n",
       "4      4  [Toy Story 2 , In Search of the Castaways , Wi...\n",
       "..   ...                                                ...\n",
       "605  605  [Toy Story 2 , Fun , In Search of the Castaway...\n",
       "606  606  [Toy Story 2 , Fun , In Search of the Castaway...\n",
       "607  607  [Toy Story 2 , Fun , In Search of the Castaway...\n",
       "608  608  [Toy Story 2 , In Search of the Castaways , Sh...\n",
       "609  609  [Fun , In Search of the Castaways , Wild, The ...\n",
       "\n",
       "[610 rows x 2 columns]"
      ]
     },
     "execution_count": 64,
     "metadata": {},
     "output_type": "execute_result"
    }
   ],
   "source": [
    "df_movieforuser"
   ]
  }
 ],
 "metadata": {
  "accelerator": "GPU",
  "colab": {
   "collapsed_sections": [],
   "name": "Hybrid Recommender.ipynb",
   "provenance": []
  },
  "kernelspec": {
   "display_name": "Python 3 (ipykernel)",
   "language": "python",
   "name": "python3"
  },
  "language_info": {
   "codemirror_mode": {
    "name": "ipython",
    "version": 3
   },
   "file_extension": ".py",
   "mimetype": "text/x-python",
   "name": "python",
   "nbconvert_exporter": "python",
   "pygments_lexer": "ipython3",
   "version": "3.9.7"
  }
 },
 "nbformat": 4,
 "nbformat_minor": 1
}
